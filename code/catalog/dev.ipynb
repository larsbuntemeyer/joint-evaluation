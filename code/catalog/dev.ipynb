{
 "cells": [
  {
   "cell_type": "code",
   "execution_count": 3,
   "metadata": {},
   "outputs": [],
   "source": [
    "from catalog import DRS"
   ]
  },
  {
   "cell_type": "code",
   "execution_count": 4,
   "metadata": {},
   "outputs": [
    {
     "data": {
      "text/plain": [
       "{'directory_path_template': '<project_id>/<mip_era>/<activity_id>/<domain_id>/<institution_id>/<driving_source_id>/<driving_experiment_id>/<driving_variant_label>/<source_id>/<version_realization>/<frequency>/<variable_id>/<version>',\n",
       " 'filename_template': '<variable_id>_<domain_id>_<driving_source_id>_<driving_experiment_id>_<driving_variant_label>_<institution_id>_<source_id>_<version_realization>_<frequency>[_<time_range>].nc'}"
      ]
     },
     "execution_count": 4,
     "metadata": {},
     "output_type": "execute_result"
    }
   ],
   "source": [
    "DRS"
   ]
  },
  {
   "cell_type": "code",
   "execution_count": 6,
   "metadata": {},
   "outputs": [
    {
     "data": {
      "text/plain": [
       "['<project_id>',\n",
       " '<mip_era>',\n",
       " '<activity_id>',\n",
       " '<domain_id>',\n",
       " '<institution_id>',\n",
       " '<driving_source_id>',\n",
       " '<driving_experiment_id>',\n",
       " '<driving_variant_label>',\n",
       " '<source_id>',\n",
       " '<version_realization>',\n",
       " '<frequency>',\n",
       " '<variable_id>',\n",
       " '<version>']"
      ]
     },
     "execution_count": 6,
     "metadata": {},
     "output_type": "execute_result"
    }
   ],
   "source": [
    "DRS[\"directory_path_template\"].split(\"/\")"
   ]
  },
  {
   "cell_type": "code",
   "execution_count": 41,
   "metadata": {},
   "outputs": [
    {
     "name": "stdout",
     "output_type": "stream",
     "text": [
      "{'project_id': 'CORDEX', 'mip_era': 'CMIP6', 'activity_id': 'DD', 'domain_id': 'EUR-12', 'institution_id': 'GERICS', 'driving_source_id': 'ERA5', 'driving_experiment_id': 'evaluation', 'driving_variant_label': 'r1i1p1f1', 'source_id': 'REMO2020', 'version_realization': 'v1', 'frequency': 'mon', 'variable_id': 'tas', 'version': 'v20240529'}\n"
     ]
    }
   ],
   "source": [
    "def create_pattern(drs):\n",
    "    attrs = drs.split(\"/\")\n",
    "    drs = \"/\".join([f\"(?P{attr}[^/]+)\" for attr in attrs])\n",
    "    # Allow for an optional root directory\n",
    "    drs = r\"^/?(?:[^/]+/)*\" + drs\n",
    "    return re.compile(drs)\n",
    "\n",
    "\n",
    "def parse_filepath(filepath, drs):\n",
    "    pattern = create_pattern(drs)\n",
    "    match = pattern.match(filepath)\n",
    "    if match:\n",
    "        return match.groupdict()\n",
    "    else:\n",
    "        raise ValueError(\"The filepath does not match the expected pattern.\")\n",
    "\n",
    "drs = DRS[\"directory_path_template\"]\n",
    "\n",
    "\n",
    "filepath = \"/mnt/CORDEX_CMIP6_tmp/sim_data/CORDEX/CMIP6/DD/EUR-12/GERICS/ERA5/evaluation/r1i1p1f1/REMO2020/v1/mon/tas/v20240529\"\n",
    "components = parse_filepath(filepath, drs)\n",
    "print(components)\n",
    "    "
   ]
  },
  {
   "cell_type": "code",
   "execution_count": 44,
   "metadata": {},
   "outputs": [
    {
     "name": "stdout",
     "output_type": "stream",
     "text": [
      "/mnt/CORDEX_CMIP6_tmp/sim_data/CORDEX/CMIP6/DD/EUR-12/GERICS/ERA5/evaluation/r1i1p1f1/REMO2020/v1/mon/hurs/v20240529\n",
      "{'project_id': 'CORDEX', 'mip_era': 'CMIP6', 'activity_id': 'DD', 'domain_id': 'EUR-12', 'institution_id': 'GERICS', 'driving_source_id': 'ERA5', 'driving_experiment_id': 'evaluation', 'driving_variant_label': 'r1i1p1f1', 'source_id': 'REMO2020', 'version_realization': 'v1', 'frequency': 'mon', 'variable_id': 'hurs', 'version': 'v20240529'}\n",
      "/mnt/CORDEX_CMIP6_tmp/sim_data/CORDEX/CMIP6/DD/EUR-12/GERICS/ERA5/evaluation/r1i1p1f1/REMO2020/v1/mon/pr/v20240529\n",
      "{'project_id': 'CORDEX', 'mip_era': 'CMIP6', 'activity_id': 'DD', 'domain_id': 'EUR-12', 'institution_id': 'GERICS', 'driving_source_id': 'ERA5', 'driving_experiment_id': 'evaluation', 'driving_variant_label': 'r1i1p1f1', 'source_id': 'REMO2020', 'version_realization': 'v1', 'frequency': 'mon', 'variable_id': 'pr', 'version': 'v20240529'}\n",
      "/mnt/CORDEX_CMIP6_tmp/sim_data/CORDEX/CMIP6/DD/EUR-12/GERICS/ERA5/evaluation/r1i1p1f1/REMO2020/v1/mon/prsn/v20240529\n",
      "{'project_id': 'CORDEX', 'mip_era': 'CMIP6', 'activity_id': 'DD', 'domain_id': 'EUR-12', 'institution_id': 'GERICS', 'driving_source_id': 'ERA5', 'driving_experiment_id': 'evaluation', 'driving_variant_label': 'r1i1p1f1', 'source_id': 'REMO2020', 'version_realization': 'v1', 'frequency': 'mon', 'variable_id': 'prsn', 'version': 'v20240529'}\n",
      "/mnt/CORDEX_CMIP6_tmp/sim_data/CORDEX/CMIP6/DD/EUR-12/GERICS/ERA5/evaluation/r1i1p1f1/REMO2020/v1/mon/ps/v20240529\n",
      "{'project_id': 'CORDEX', 'mip_era': 'CMIP6', 'activity_id': 'DD', 'domain_id': 'EUR-12', 'institution_id': 'GERICS', 'driving_source_id': 'ERA5', 'driving_experiment_id': 'evaluation', 'driving_variant_label': 'r1i1p1f1', 'source_id': 'REMO2020', 'version_realization': 'v1', 'frequency': 'mon', 'variable_id': 'ps', 'version': 'v20240529'}\n",
      "/mnt/CORDEX_CMIP6_tmp/sim_data/CORDEX/CMIP6/DD/EUR-12/GERICS/ERA5/evaluation/r1i1p1f1/REMO2020/v1/mon/tas/v20240529\n",
      "{'project_id': 'CORDEX', 'mip_era': 'CMIP6', 'activity_id': 'DD', 'domain_id': 'EUR-12', 'institution_id': 'GERICS', 'driving_source_id': 'ERA5', 'driving_experiment_id': 'evaluation', 'driving_variant_label': 'r1i1p1f1', 'source_id': 'REMO2020', 'version_realization': 'v1', 'frequency': 'mon', 'variable_id': 'tas', 'version': 'v20240529'}\n",
      "/mnt/CORDEX_CMIP6_tmp/sim_data/CORDEX/CMIP6/DD/EUR-12/GERICS/ERA5/evaluation/r1i1p1f1/REMO2020/v1/mon/tasmax/v20240529\n",
      "{'project_id': 'CORDEX', 'mip_era': 'CMIP6', 'activity_id': 'DD', 'domain_id': 'EUR-12', 'institution_id': 'GERICS', 'driving_source_id': 'ERA5', 'driving_experiment_id': 'evaluation', 'driving_variant_label': 'r1i1p1f1', 'source_id': 'REMO2020', 'version_realization': 'v1', 'frequency': 'mon', 'variable_id': 'tasmax', 'version': 'v20240529'}\n",
      "/mnt/CORDEX_CMIP6_tmp/sim_data/CORDEX/CMIP6/DD/EUR-12/GERICS/ERA5/evaluation/r1i1p1f1/REMO2020/v1/mon/tasmin/v20240529\n",
      "{'project_id': 'CORDEX', 'mip_era': 'CMIP6', 'activity_id': 'DD', 'domain_id': 'EUR-12', 'institution_id': 'GERICS', 'driving_source_id': 'ERA5', 'driving_experiment_id': 'evaluation', 'driving_variant_label': 'r1i1p1f1', 'source_id': 'REMO2020', 'version_realization': 'v1', 'frequency': 'mon', 'variable_id': 'tasmin', 'version': 'v20240529'}\n",
      "/mnt/CORDEX_CMIP6_tmp/sim_data/CORDEX/CMIP6/DD/EUR-12/GERICS/ERA5/evaluation/r1i1p1f1/REMO2020/v1/mon/uas/v20240529\n",
      "{'project_id': 'CORDEX', 'mip_era': 'CMIP6', 'activity_id': 'DD', 'domain_id': 'EUR-12', 'institution_id': 'GERICS', 'driving_source_id': 'ERA5', 'driving_experiment_id': 'evaluation', 'driving_variant_label': 'r1i1p1f1', 'source_id': 'REMO2020', 'version_realization': 'v1', 'frequency': 'mon', 'variable_id': 'uas', 'version': 'v20240529'}\n",
      "/mnt/CORDEX_CMIP6_tmp/sim_data/CORDEX/CMIP6/DD/EUR-12/GERICS/ERA5/evaluation/r1i1p1f1/REMO2020/v1/mon/vas/v20240529\n",
      "{'project_id': 'CORDEX', 'mip_era': 'CMIP6', 'activity_id': 'DD', 'domain_id': 'EUR-12', 'institution_id': 'GERICS', 'driving_source_id': 'ERA5', 'driving_experiment_id': 'evaluation', 'driving_variant_label': 'r1i1p1f1', 'source_id': 'REMO2020', 'version_realization': 'v1', 'frequency': 'mon', 'variable_id': 'vas', 'version': 'v20240529'}\n"
     ]
    },
    {
     "data": {
      "text/plain": [
       "[{'project_id': 'CORDEX',\n",
       "  'mip_era': 'CMIP6',\n",
       "  'activity_id': 'DD',\n",
       "  'domain_id': 'EUR-12',\n",
       "  'institution_id': 'GERICS',\n",
       "  'driving_source_id': 'ERA5',\n",
       "  'driving_experiment_id': 'evaluation',\n",
       "  'driving_variant_label': 'r1i1p1f1',\n",
       "  'source_id': 'REMO2020',\n",
       "  'version_realization': 'v1',\n",
       "  'frequency': 'mon',\n",
       "  'variable_id': 'hurs',\n",
       "  'version': 'v20240529'},\n",
       " {'project_id': 'CORDEX',\n",
       "  'mip_era': 'CMIP6',\n",
       "  'activity_id': 'DD',\n",
       "  'domain_id': 'EUR-12',\n",
       "  'institution_id': 'GERICS',\n",
       "  'driving_source_id': 'ERA5',\n",
       "  'driving_experiment_id': 'evaluation',\n",
       "  'driving_variant_label': 'r1i1p1f1',\n",
       "  'source_id': 'REMO2020',\n",
       "  'version_realization': 'v1',\n",
       "  'frequency': 'mon',\n",
       "  'variable_id': 'pr',\n",
       "  'version': 'v20240529'},\n",
       " {'project_id': 'CORDEX',\n",
       "  'mip_era': 'CMIP6',\n",
       "  'activity_id': 'DD',\n",
       "  'domain_id': 'EUR-12',\n",
       "  'institution_id': 'GERICS',\n",
       "  'driving_source_id': 'ERA5',\n",
       "  'driving_experiment_id': 'evaluation',\n",
       "  'driving_variant_label': 'r1i1p1f1',\n",
       "  'source_id': 'REMO2020',\n",
       "  'version_realization': 'v1',\n",
       "  'frequency': 'mon',\n",
       "  'variable_id': 'prsn',\n",
       "  'version': 'v20240529'},\n",
       " {'project_id': 'CORDEX',\n",
       "  'mip_era': 'CMIP6',\n",
       "  'activity_id': 'DD',\n",
       "  'domain_id': 'EUR-12',\n",
       "  'institution_id': 'GERICS',\n",
       "  'driving_source_id': 'ERA5',\n",
       "  'driving_experiment_id': 'evaluation',\n",
       "  'driving_variant_label': 'r1i1p1f1',\n",
       "  'source_id': 'REMO2020',\n",
       "  'version_realization': 'v1',\n",
       "  'frequency': 'mon',\n",
       "  'variable_id': 'ps',\n",
       "  'version': 'v20240529'},\n",
       " {'project_id': 'CORDEX',\n",
       "  'mip_era': 'CMIP6',\n",
       "  'activity_id': 'DD',\n",
       "  'domain_id': 'EUR-12',\n",
       "  'institution_id': 'GERICS',\n",
       "  'driving_source_id': 'ERA5',\n",
       "  'driving_experiment_id': 'evaluation',\n",
       "  'driving_variant_label': 'r1i1p1f1',\n",
       "  'source_id': 'REMO2020',\n",
       "  'version_realization': 'v1',\n",
       "  'frequency': 'mon',\n",
       "  'variable_id': 'tas',\n",
       "  'version': 'v20240529'},\n",
       " {'project_id': 'CORDEX',\n",
       "  'mip_era': 'CMIP6',\n",
       "  'activity_id': 'DD',\n",
       "  'domain_id': 'EUR-12',\n",
       "  'institution_id': 'GERICS',\n",
       "  'driving_source_id': 'ERA5',\n",
       "  'driving_experiment_id': 'evaluation',\n",
       "  'driving_variant_label': 'r1i1p1f1',\n",
       "  'source_id': 'REMO2020',\n",
       "  'version_realization': 'v1',\n",
       "  'frequency': 'mon',\n",
       "  'variable_id': 'tasmax',\n",
       "  'version': 'v20240529'},\n",
       " {'project_id': 'CORDEX',\n",
       "  'mip_era': 'CMIP6',\n",
       "  'activity_id': 'DD',\n",
       "  'domain_id': 'EUR-12',\n",
       "  'institution_id': 'GERICS',\n",
       "  'driving_source_id': 'ERA5',\n",
       "  'driving_experiment_id': 'evaluation',\n",
       "  'driving_variant_label': 'r1i1p1f1',\n",
       "  'source_id': 'REMO2020',\n",
       "  'version_realization': 'v1',\n",
       "  'frequency': 'mon',\n",
       "  'variable_id': 'tasmin',\n",
       "  'version': 'v20240529'},\n",
       " {'project_id': 'CORDEX',\n",
       "  'mip_era': 'CMIP6',\n",
       "  'activity_id': 'DD',\n",
       "  'domain_id': 'EUR-12',\n",
       "  'institution_id': 'GERICS',\n",
       "  'driving_source_id': 'ERA5',\n",
       "  'driving_experiment_id': 'evaluation',\n",
       "  'driving_variant_label': 'r1i1p1f1',\n",
       "  'source_id': 'REMO2020',\n",
       "  'version_realization': 'v1',\n",
       "  'frequency': 'mon',\n",
       "  'variable_id': 'uas',\n",
       "  'version': 'v20240529'},\n",
       " {'project_id': 'CORDEX',\n",
       "  'mip_era': 'CMIP6',\n",
       "  'activity_id': 'DD',\n",
       "  'domain_id': 'EUR-12',\n",
       "  'institution_id': 'GERICS',\n",
       "  'driving_source_id': 'ERA5',\n",
       "  'driving_experiment_id': 'evaluation',\n",
       "  'driving_variant_label': 'r1i1p1f1',\n",
       "  'source_id': 'REMO2020',\n",
       "  'version_realization': 'v1',\n",
       "  'frequency': 'mon',\n",
       "  'variable_id': 'vas',\n",
       "  'version': 'v20240529'}]"
      ]
     },
     "execution_count": 44,
     "metadata": {},
     "output_type": "execute_result"
    }
   ],
   "source": [
    "import os\n",
    "\n",
    "def update_catalog(root):\n",
    "    datasets = []\n",
    "    for root, dirs, files in os.walk(root):\n",
    "        # only parse if files found\n",
    "        if not files:\n",
    "            continue\n",
    "        # for file in files:\n",
    "        #     filepath = os.path.join(root, file)\n",
    "        #     print(root)\n",
    "        #     try:\n",
    "        #         metadata = parse_filepath(root, DRS[\"directory_path_template\"])\n",
    "        #         print(metadata)\n",
    "        #     except ValueError:\n",
    "        #         continue\n",
    "        #     # Update the catalog\n",
    "        #     # catalog.update(metadata)\n",
    "        print(root)\n",
    "        try:\n",
    "            metadata = parse_filepath(root, DRS[\"directory_path_template\"])\n",
    "            datasets.append(metadata)\n",
    "            print(metadata)\n",
    "        except ValueError:\n",
    "            print(f\"Could not parse {root}\")\n",
    "            continue\n",
    "    return datasets\n",
    "\n",
    "ROOT = \"/mnt/CORDEX_CMIP6_tmp/sim_data/CORDEX/CMIP6\"\n",
    "update_catalog(ROOT)"
   ]
  },
  {
   "cell_type": "code",
   "execution_count": null,
   "metadata": {},
   "outputs": [],
   "source": [
    "'(?P<project_id>[^/]+)/(?P<mip_era>[^/]+)/(?P<activity_id>[^/]+)/(?P<domain_id>[^/]+)/(?P<institution_id>[^/]+)/(?P<driving_source_id>[^/]+)/(?P<driving_experiment_id>[^/]+)/(?P<driving_variant_label>[^/]+)/(?P<source_id>[^/]+)/(?P<version_realization>[^/]+)/(?P<frequency>[^/]+)/(?P<variable_id>[^/]+)/(?P<version>[^/]+)'"
   ]
  },
  {
   "cell_type": "code",
   "execution_count": 17,
   "metadata": {},
   "outputs": [],
   "source": [
    "pattern = re.compile(r'<project_id>/<mip_era>/<activity_id>/<domain_id>/<institution_id>/<driving_source_id>/<driving_experiment_id>/<driving_variant_label>/<source_id>/<version_realization>/<frequency>/<variable_id>/<version>')\n",
    "m = pattern.search(\"CORDEX/CMIP6/DD/EUR-12/GERICS/ERA5/evaluation/r1i1p1f1/REMO2020/v1/mon/tas/v20240529\")"
   ]
  },
  {
   "cell_type": "code",
   "execution_count": 20,
   "metadata": {},
   "outputs": [
    {
     "name": "stdout",
     "output_type": "stream",
     "text": [
      "{'project_id': 'project1', 'mip_era': 'CMIP6', 'activity_id': 'ScenarioMIP', 'domain_id': 'Amon', 'institution_id': 'NOAA-GFDL', 'driving_source_id': 'GFDL-ESM4', 'driving_experiment_id': 'historical', 'driving_variant_label': 'r1i1p1f1', 'source_id': 'GFDL-ESM4', 'version_realization': 'v20190726', 'frequency': 'mon', 'variable_id': 'tas', 'version': 'v20190726'}\n"
     ]
    }
   ],
   "source": [
    "import re\n",
    "\n",
    "# Define the regex pattern based on the provided format\n",
    "pattern = re.compile('(?P<project_id>[^/]+)/(?P<mip_era>[^/]+)/(?P<activity_id>[^/]+)/(?P<domain_id>[^/]+)/(?P<institution_id>[^/]+)/(?P<driving_source_id>[^/]+)/(?P<driving_experiment_id>[^/]+)/(?P<driving_variant_label>[^/]+)/(?P<source_id>[^/]+)/(?P<version_realization>[^/]+)/(?P<frequency>[^/]+)/(?P<variable_id>[^/]+)/(?P<version>[^/]+)')\n",
    "\n",
    "def parse_filepath(filepath):\n",
    "    match = pattern.match(filepath)\n",
    "    if match:\n",
    "        return match.groupdict()\n",
    "    else:\n",
    "        raise ValueError(\"The filepath does not match the expected pattern.\")\n",
    "\n",
    "# Example usage\n",
    "filepath = 'project1/CMIP6/ScenarioMIP/Amon/NOAA-GFDL/GFDL-ESM4/historical/r1i1p1f1/GFDL-ESM4/v20190726/mon/tas/v20190726'\n",
    "components = parse_filepath(filepath)\n",
    "print(components)"
   ]
  },
  {
   "cell_type": "code",
   "execution_count": null,
   "metadata": {},
   "outputs": [],
   "source": []
  }
 ],
 "metadata": {
  "kernelspec": {
   "display_name": "cordex",
   "language": "python",
   "name": "python3"
  },
  "language_info": {
   "codemirror_mode": {
    "name": "ipython",
    "version": 3
   },
   "file_extension": ".py",
   "mimetype": "text/x-python",
   "name": "python",
   "nbconvert_exporter": "python",
   "pygments_lexer": "ipython3",
   "version": "3.9.20"
  }
 },
 "nbformat": 4,
 "nbformat_minor": 2
}
