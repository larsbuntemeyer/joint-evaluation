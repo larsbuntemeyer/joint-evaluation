{
 "cells": [
  {
   "cell_type": "markdown",
   "id": "bfc1fdec-335a-4413-b590-09e7121db659",
   "metadata": {},
   "source": [
    "# Download ERA5 data from the CDS"
   ]
  },
  {
   "cell_type": "code",
   "execution_count": 1,
   "id": "7448f833-8205-441c-8c56-18656209a1ba",
   "metadata": {},
   "outputs": [],
   "source": [
    "import os\n",
    "import xarray as xr\n",
    "\n",
    "import cdsapi"
   ]
  },
  {
   "cell_type": "code",
   "execution_count": 2,
   "id": "6e6d4416-23a3-4718-8b32-dcd841a4b48a",
   "metadata": {},
   "outputs": [],
   "source": [
    "dest = \"/mnt/CORDEX_CMIP6_tmp/aux_data/era5/\"\n",
    "dataset = \"reanalysis-era5-single-levels-monthly-means\"\n",
    "YEARS = [\n",
    "    \"1979\",\n",
    "    \"1980\",\n",
    "    \"1981\",\n",
    "    \"1982\",\n",
    "    \"1983\",\n",
    "    \"1984\",\n",
    "    \"1985\",\n",
    "    \"1986\",\n",
    "    \"1987\",\n",
    "    \"1988\",\n",
    "    \"1989\",\n",
    "    \"1990\",\n",
    "    \"1991\",\n",
    "    \"1992\",\n",
    "    \"1993\",\n",
    "    \"1994\",\n",
    "    \"1995\",\n",
    "    \"1996\",\n",
    "    \"1997\",\n",
    "    \"1998\",\n",
    "    \"1999\",\n",
    "    \"2000\",\n",
    "    \"2001\",\n",
    "    \"2002\",\n",
    "    \"2003\",\n",
    "    \"2004\",\n",
    "    \"2005\",\n",
    "    \"2006\",\n",
    "    \"2007\",\n",
    "    \"2008\",\n",
    "    \"2009\",\n",
    "    \"2010\",\n",
    "    \"2011\",\n",
    "    \"2012\",\n",
    "    \"2013\",\n",
    "    \"2014\",\n",
    "    \"2015\",\n",
    "    \"2016\",\n",
    "    \"2017\",\n",
    "    \"2018\",\n",
    "    \"2019\",\n",
    "    \"2020\"\n",
    "]"
   ]
  },
  {
   "cell_type": "code",
   "execution_count": 3,
   "id": "6fc63e3d-ccff-440d-9412-8dde87df35d2",
   "metadata": {},
   "outputs": [],
   "source": [
    "variables = {\n",
    "    \"tas\": \"2m_temperature\",\n",
    "    \"pr\": \"total_precipitation\",\n",
    "    \"msl\": \"mean_sea_level_pressure\",\n",
    "}"
   ]
  },
  {
   "cell_type": "code",
   "execution_count": null,
   "id": "fad63a45-c2e2-40c6-ae49-ec6bf4a81272",
   "metadata": {},
   "outputs": [],
   "source": [
    "for var in variables.keys():\n",
    "    for year in YEARS:\n",
    "        filedir = f\"{dest}mon/{var}/\"\n",
    "        os.makedirs(filedir, exist_ok=True)\n",
    "        filename = f\"{var}_ERA5_mon_{year}.nc\"\n",
    "        request = {\n",
    "            \"product_type\": [\"monthly_averaged_reanalysis\"],\n",
    "            \"variable\": [variables[var]],\n",
    "            \"year\": [year],\n",
    "            \"month\": [\n",
    "                \"01\",\n",
    "                \"02\",\n",
    "                \"03\",\n",
    "                \"04\",\n",
    "                \"05\",\n",
    "                \"06\",\n",
    "                \"07\",\n",
    "                \"08\",\n",
    "                \"09\",\n",
    "                \"10\",\n",
    "                \"11\",\n",
    "                \"12\",\n",
    "            ],\n",
    "            \"time\": [\"00:00\"],\n",
    "            \"data_format\": \"netcdf\",\n",
    "            \"download_format\": \"unarchived\",\n",
    "            \"area\": [75, -35, 20, 50],\n",
    "        }\n",
    "\n",
    "        client = cdsapi.Client()\n",
    "        client.retrieve(dataset, request).download(f\"{filedir}{filename}\")"
   ]
  },
  {
   "cell_type": "markdown",
   "id": "76dadb40-f7ee-4f5c-8657-9d3b45ae6814",
   "metadata": {},
   "source": [
    "## Download fixed variables (land-sea mask and orography)"
   ]
  },
  {
   "cell_type": "code",
   "execution_count": 6,
   "id": "0d2b49d6-524d-4b19-ab7a-bdbb2a22b954",
   "metadata": {},
   "outputs": [],
   "source": [
    "variables = {\n",
    "    \"land_sea_mask\": \"sftlf\",\n",
    "    \"geopotential\": \"orog\"\n",
    "}\n",
    "dataset = \"reanalysis-era5-single-levels\""
   ]
  },
  {
   "cell_type": "code",
   "execution_count": null,
   "id": "1e4f2c5e-1bed-4bf0-b1a6-b8dea736bc04",
   "metadata": {},
   "outputs": [],
   "source": [
    "for var, var_name in variables.items():\n",
    "    filedir = f\"{dest}fx/\"\n",
    "    os.makedirs(filedir, exist_ok=True)\n",
    "    filename = f\"{var_name}_ERA5_fx.nc\"    \n",
    "    request = {\n",
    "        \"product_type\": [\"reanalysis\"],\n",
    "        \"variable\": [var],\n",
    "        \"year\": [\"1940\"],\n",
    "        \"month\": [\"01\"],\n",
    "        \"day\": [\"01\"],\n",
    "        \"time\": [\"00:00\"],\n",
    "        \"data_format\": \"netcdf\",\n",
    "        \"download_format\": \"unarchived\"\n",
    "    }\n",
    "\n",
    "    client = cdsapi.Client()\n",
    "    client.retrieve(dataset, request).download(f\"{filedir}{filename}\")"
   ]
  },
  {
   "cell_type": "code",
   "execution_count": 3,
   "id": "8bbaf581-d850-45fc-831f-fbd5b9f25d49",
   "metadata": {},
   "outputs": [],
   "source": [
    "def traverseDir(root):\n",
    "    for dirpath, dirnames, filenames in os.walk(root):\n",
    "        for file in filenames:\n",
    "            if file.endswith(\".nc\"):\n",
    "                yield os.path.join(dirpath, file)"
   ]
  },
  {
   "cell_type": "code",
   "execution_count": 4,
   "id": "395dfbbb-aac3-421a-b54c-3c145bcb183e",
   "metadata": {},
   "outputs": [],
   "source": [
    "filedir = \"/mnt/CORDEX_CMIP6_tmp/aux_data/era5/fx/\"\n",
    "files = list(traverseDir(filedir))"
   ]
  },
  {
   "cell_type": "code",
   "execution_count": 6,
   "id": "1aafbb64-ee89-47e2-af55-bbcb4b8c9e2c",
   "metadata": {},
   "outputs": [],
   "source": [
    "# rename variables\n",
    "for file in files:\n",
    "    var = file.split(\"/\")[-1].split(\"_\")[0]\n",
    "    ds = xr.open_dataset(file)\n",
    "    if var in [\"orog\", \"sftlf\"]:\n",
    "        data_vars = ds.data_vars\n",
    "        if len(data_vars) == 1:\n",
    "            old_name = list(data_vars)[0]\n",
    "            ds = ds.rename({old_name: var})\n",
    "            if var == \"orog\":\n",
    "                ds[var] = ds[var]/9.81 # geopotential to elev in m\n",
    "        else:\n",
    "            print(\"There is more than one data variable; you need to specify which one to rename.\")\n",
    "        for tt in ['time', 'valid_time']:\n",
    "            if tt in ds.variables:\n",
    "                ds = ds[var].isel({tt:0}).squeeze()\n",
    "                if isinstance(ds, xr.DataArray):\n",
    "                    ds = ds.to_dataset()\n",
    "        \n",
    "        filename = f\"{var}_ERA5_fx_fixed.nc\"\n",
    "        ds.to_netcdf(f\"{filedir}{filename}\", mode='w', engine='netcdf4')"
   ]
  }
 ],
 "metadata": {
  "kernelspec": {
   "display_name": "Python (evaltools)",
   "language": "python",
   "name": "evaltools"
  },
  "language_info": {
   "codemirror_mode": {
    "name": "ipython",
    "version": 3
   },
   "file_extension": ".py",
   "mimetype": "text/x-python",
   "name": "python",
   "nbconvert_exporter": "python",
   "pygments_lexer": "ipython3",
   "version": "3.10.17"
  }
 },
 "nbformat": 4,
 "nbformat_minor": 5
}
