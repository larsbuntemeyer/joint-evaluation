{
 "cells": [
  {
   "cell_type": "markdown",
   "id": "433ed6c2-ce94-45b0-b0af-47b78af5c97c",
   "metadata": {},
   "source": [
    "# Download CERRA-Land data from the CDS"
   ]
  },
  {
   "cell_type": "code",
   "execution_count": 1,
   "id": "7448f833-8205-441c-8c56-18656209a1ba",
   "metadata": {},
   "outputs": [],
   "source": [
    "import os\n",
    "\n",
    "import cdsapi\n",
    "import numpy as np\n",
    "import xarray as xr"
   ]
  },
  {
   "cell_type": "code",
   "execution_count": 2,
   "id": "6e6d4416-23a3-4718-8b32-dcd841a4b48a",
   "metadata": {},
   "outputs": [],
   "source": [
    "dest = \"/mnt/CORDEX_CMIP6_tmp/aux_data/cerra-land/\"\n",
    "dataset = \"reanalysis-cerra-land\"\n",
    "YEARS = [\n",
    "    \"1984\",\n",
    "    \"1985\",\n",
    "    \"1986\",\n",
    "    \"1987\",\n",
    "    \"1988\",\n",
    "    \"1989\",\n",
    "    \"1990\",\n",
    "    \"1991\",\n",
    "    \"1992\",\n",
    "    \"1993\",\n",
    "    \"1994\",\n",
    "    \"1995\",\n",
    "    \"1996\",\n",
    "    \"1997\",\n",
    "    \"1998\",\n",
    "    \"1999\",\n",
    "    \"2000\",\n",
    "    \"2001\",\n",
    "    \"2002\",\n",
    "    \"2003\",\n",
    "    \"2004\",\n",
    "    \"2005\",\n",
    "    \"2006\",\n",
    "    \"2007\",\n",
    "    \"2008\",\n",
    "    \"2009\",\n",
    "    \"2010\",\n",
    "    \"2011\",\n",
    "    \"2012\",\n",
    "    \"2013\",\n",
    "    \"2014\",\n",
    "    \"2015\",\n",
    "    \"2016\",\n",
    "    \"2017\",\n",
    "    \"2018\",\n",
    "    \"2019\",\n",
    "    \"2020\"\n",
    "]\n",
    "variable = \"pr\"\n",
    "temp_agg = \"day\""
   ]
  },
  {
   "cell_type": "code",
   "execution_count": null,
   "id": "fad63a45-c2e2-40c6-ae49-ec6bf4a81272",
   "metadata": {},
   "outputs": [
    {
     "name": "stderr",
     "output_type": "stream",
     "text": [
      "2025-05-26 10:45:32,197 INFO [2024-09-26T00:00:00] Watch our [Forum](https://forum.ecmwf.int/) for Announcements, news and other discussed topics.\n",
      "2025-05-26 10:45:32,198 WARNING [2024-06-16T00:00:00] CDS API syntax is changed and some keys or parameter names may have also changed. To avoid requests failing, please use the \"Show API request code\" tool on the dataset Download Form to check you are using the correct syntax for your API request.\n",
      "2025-05-26 10:45:32,361 INFO Request ID is 732c1429-6b24-4cb6-85b2-321de8f31747\n",
      "2025-05-26 10:45:32,444 INFO status has been updated to accepted\n",
      "2025-05-26 10:45:46,221 INFO status has been updated to running\n"
     ]
    }
   ],
   "source": [
    "for year in YEARS:\n",
    "    filedir = f\"{dest}{temp_agg}/{variable}/\"\n",
    "    os.makedirs(filedir, exist_ok=True)\n",
    "    filename = f\"{variable}_CERRA-Land_day_{year}.nc\"\n",
    "    request = {\n",
    "        \"variable\": [\"total_precipitation\"],\n",
    "        \"level_type\": [\"surface\"],\n",
    "        \"product_type\": [\"analysis\"],\n",
    "        \"year\": [year],\n",
    "        \"month\": [\n",
    "            \"01\",\n",
    "            \"02\",\n",
    "            \"03\",\n",
    "            \"04\",\n",
    "            \"05\",\n",
    "            \"06\",\n",
    "            \"07\",\n",
    "            \"08\",\n",
    "            \"09\",\n",
    "            \"10\",\n",
    "            \"11\",\n",
    "            \"12\",\n",
    "        ],\n",
    "        \"day\": [\n",
    "            \"01\",\n",
    "            \"02\",\n",
    "            \"03\",\n",
    "            \"04\",\n",
    "            \"05\",\n",
    "            \"06\",\n",
    "            \"07\",\n",
    "            \"08\",\n",
    "            \"09\",\n",
    "            \"10\",\n",
    "            \"11\",\n",
    "            \"12\",\n",
    "            \"13\",\n",
    "            \"14\",\n",
    "            \"15\",\n",
    "            \"16\",\n",
    "            \"17\",\n",
    "            \"18\",\n",
    "            \"19\",\n",
    "            \"20\",\n",
    "            \"21\",\n",
    "            \"22\",\n",
    "            \"23\",\n",
    "            \"24\",\n",
    "            \"25\",\n",
    "            \"26\",\n",
    "            \"27\",\n",
    "            \"28\",\n",
    "            \"29\",\n",
    "            \"30\",\n",
    "            \"31\",\n",
    "        ],\n",
    "        \"time\": [\"06:00\"],\n",
    "        \"data_format\": \"netcdf\",\n",
    "        \"download_format\": \"unarchived\",\n",
    "    }\n",
    "    client = cdsapi.Client()\n",
    "    client.retrieve(dataset, request).download(f\"{filedir}{filename}\")"
   ]
  },
  {
   "cell_type": "markdown",
   "id": "9b796142-596c-450c-a385-a09beb2a5f3e",
   "metadata": {},
   "source": [
    "### Resample to monthly temporal aggregation"
   ]
  },
  {
   "cell_type": "code",
   "execution_count": 8,
   "id": "c5f09519-b86e-4fe0-8aca-e0080e3530a0",
   "metadata": {},
   "outputs": [],
   "source": [
    "def traverseDir(root):\n",
    "    for dirpath, dirnames, filenames in os.walk(root):\n",
    "        for file in filenames:\n",
    "            if file.endswith(\".nc\"):\n",
    "                yield os.path.join(dirpath, file)"
   ]
  },
  {
   "cell_type": "code",
   "execution_count": 11,
   "id": "8514da20-3d50-4dd0-8f4d-11750eba7d1f",
   "metadata": {},
   "outputs": [],
   "source": [
    "filedir = f\"{dest}{temp_agg}/{variable}/\"\n",
    "files = np.sort(list(traverseDir(filedir)))"
   ]
  },
  {
   "cell_type": "code",
   "execution_count": 12,
   "id": "e7d5a1e8-992b-4356-833e-2c080a766999",
   "metadata": {},
   "outputs": [
    {
     "name": "stdout",
     "output_type": "stream",
     "text": [
      "pr_CERRA-Land_day_2020.nc\n"
     ]
    }
   ],
   "source": [
    "for file in files:\n",
    "    print(file.split(\"/\")[-1])\n",
    "    ds = xr.open_dataset(file)\n",
    "    ds = ds.resample(valid_time=\"ME\").mean()\n",
    "    filedir = f\"{dest}{'mon'}/{variable}/\"\n",
    "    os.makedirs(filedir, exist_ok=True)\n",
    "    ds = ds.to_netcdf(\n",
    "        f\"{filedir}{file.split('/')[-1].replace('_day_', '_mon_')}\",\n",
    "        encoding={\"tp\": {\"zlib\": True, \"complevel\": 1}},\n",
    "    )"
   ]
  },
  {
   "cell_type": "markdown",
   "id": "2bf69532-a8bf-43f5-ac2d-21204ebf3493",
   "metadata": {},
   "source": [
    "## Download fixed variables (land-sea mask and orography)"
   ]
  },
  {
   "cell_type": "code",
   "execution_count": 3,
   "id": "794b6ca5-0dd5-4170-b9fa-8df989362e00",
   "metadata": {},
   "outputs": [],
   "source": [
    "import sys"
   ]
  },
  {
   "cell_type": "code",
   "execution_count": 4,
   "id": "37ac137e-8d5b-45d7-ab55-c3743da30ec9",
   "metadata": {},
   "outputs": [],
   "source": [
    "variables = {\n",
    "    \"land_sea_mask\": \"sftlf\",         \n",
    "    \"orography\": \"orog\"\n",
    "}\n",
    "dataset = \"reanalysis-cerra-land\""
   ]
  },
  {
   "cell_type": "code",
   "execution_count": 5,
   "id": "b41d4582-ceb2-4181-a49a-dfe1a65a05c3",
   "metadata": {},
   "outputs": [],
   "source": [
    "filedir = \"/mnt/CORDEX_CMIP6_tmp/aux_data/cerra-land/\""
   ]
  },
  {
   "cell_type": "code",
   "execution_count": null,
   "id": "a51b12fc-7a11-4af3-82c3-81c24bbbc1f2",
   "metadata": {},
   "outputs": [],
   "source": [
    "for var, var_name in variables.items():\n",
    "    filedir = f\"{dest}fx/\"\n",
    "    os.makedirs(filedir, exist_ok=True)\n",
    "    filename = f\"{var_name}_CERRA-Land_fx.nc\"\n",
    "    \n",
    "    request = {\n",
    "        \"variable\": [var],\n",
    "        \"level_type\": [\"surface\"],\n",
    "        \"product_type\": [\"analysis\"],\n",
    "        \"year\": [\"1984\"],\n",
    "        \"month\": [\"09\"],\n",
    "        \"day\": [\"01\"],\n",
    "        \"time\": [\"00:00\"],\n",
    "        \"data_format\": \"netcdf\"\n",
    "    }\n",
    "\n",
    "    client = cdsapi.Client()\n",
    "    client.retrieve(dataset, request).download(f\"{filedir}{filename}\")"
   ]
  },
  {
   "cell_type": "code",
   "execution_count": 10,
   "id": "b3b02140-99ef-4ff9-8601-fb89efcdb2bc",
   "metadata": {},
   "outputs": [],
   "source": [
    "filedir = \"/mnt/CORDEX_CMIP6_tmp/aux_data/cerra-land/fx/\"\n",
    "files = list(traverseDir(filedir))"
   ]
  },
  {
   "cell_type": "code",
   "execution_count": 11,
   "id": "1d8b8eea-2feb-4318-8a6c-a52d8e7c934d",
   "metadata": {},
   "outputs": [],
   "source": [
    "# rename variables\n",
    "for file in files:\n",
    "    var = file.split(\"/\")[-1].split(\"_\")[0]\n",
    "    ds = xr.open_dataset(file)\n",
    "    if var in [\"orog\", \"sftlf\"]:\n",
    "        data_vars = ds.data_vars\n",
    "        if len(data_vars) == 1:\n",
    "            old_name = list(data_vars)[0]\n",
    "            ds = ds.rename({old_name: var})\n",
    "\n",
    "        else:\n",
    "            print(\"There is more than one data variable; you need to specify which one to rename.\")\n",
    "        for tt in ['time', 'valid_time']:\n",
    "            if tt in ds.variables:\n",
    "                ds = ds[var].isel({tt:0}).squeeze()\n",
    "                if isinstance(ds, xr.DataArray):\n",
    "                    ds = ds.to_dataset()\n",
    "        \n",
    "        filename = f\"{var}_CERRA-Land_fx_fixed.nc\"\n",
    "        ds.to_netcdf(f\"{filedir}{filename}\", mode='w', engine='netcdf4')"
   ]
  }
 ],
 "metadata": {
  "kernelspec": {
   "display_name": "Python (evaltools)",
   "language": "python",
   "name": "evaltools"
  },
  "language_info": {
   "codemirror_mode": {
    "name": "ipython",
    "version": 3
   },
   "file_extension": ".py",
   "mimetype": "text/x-python",
   "name": "python",
   "nbconvert_exporter": "python",
   "pygments_lexer": "ipython3",
   "version": "3.10.17"
  }
 },
 "nbformat": 4,
 "nbformat_minor": 5
}
