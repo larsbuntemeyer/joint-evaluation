{
 "cells": [
  {
   "cell_type": "markdown",
   "id": "433ed6c2-ce94-45b0-b0af-47b78af5c97c",
   "metadata": {},
   "source": [
    "# Download CERRA-Land data from the CDS"
   ]
  },
  {
   "cell_type": "code",
   "execution_count": 1,
   "id": "7448f833-8205-441c-8c56-18656209a1ba",
   "metadata": {},
   "outputs": [],
   "source": [
    "import os\n",
    "\n",
    "import cdsapi\n",
    "import numpy as np\n",
    "import xarray as xr"
   ]
  },
  {
   "cell_type": "code",
   "execution_count": 2,
   "id": "6e6d4416-23a3-4718-8b32-dcd841a4b48a",
   "metadata": {},
   "outputs": [],
   "source": [
    "dest = \"/mnt/CORDEX_CMIP6_tmp/aux_data/cerra-land/\"\n",
    "dataset = \"reanalysis-cerra-land\"\n",
    "YEARS = [\n",
    "    \"1984\",\n",
    "    \"1985\",\n",
    "    \"1986\",\n",
    "    \"1987\",\n",
    "    \"1988\",\n",
    "    \"1989\",\n",
    "    \"1990\",\n",
    "    \"1991\",\n",
    "    \"1992\",\n",
    "    \"1993\",\n",
    "    \"1994\",\n",
    "    \"1995\",\n",
    "    \"1996\",\n",
    "    \"1997\",\n",
    "    \"1998\",\n",
    "    \"1999\",\n",
    "    \"2000\",\n",
    "    \"2001\",\n",
    "    \"2002\",\n",
    "    \"2003\",\n",
    "    \"2004\",\n",
    "    \"2005\",\n",
    "    \"2006\",\n",
    "    \"2007\",\n",
    "    \"2008\",\n",
    "]\n",
    "variable = \"pr\"\n",
    "temp_agg = \"day\""
   ]
  },
  {
   "cell_type": "code",
   "execution_count": null,
   "id": "fad63a45-c2e2-40c6-ae49-ec6bf4a81272",
   "metadata": {
    "scrolled": true
   },
   "outputs": [],
   "source": [
    "for year in YEARS:\n",
    "    filedir = f\"{dest}{temp_agg}/{variable}/\"\n",
    "    os.makedirs(filedir, exist_ok=True)\n",
    "    filename = f\"{variable}_CERRA-Land_day_{year}.nc\"\n",
    "    request = {\n",
    "        \"variable\": [\"total_precipitation\"],\n",
    "        \"level_type\": [\"surface\"],\n",
    "        \"product_type\": [\"analysis\"],\n",
    "        \"year\": [year],\n",
    "        \"month\": [\n",
    "            \"01\",\n",
    "            \"02\",\n",
    "            \"03\",\n",
    "            \"04\",\n",
    "            \"05\",\n",
    "            \"06\",\n",
    "            \"07\",\n",
    "            \"08\",\n",
    "            \"09\",\n",
    "            \"10\",\n",
    "            \"11\",\n",
    "            \"12\",\n",
    "        ],\n",
    "        \"day\": [\n",
    "            \"01\",\n",
    "            \"02\",\n",
    "            \"03\",\n",
    "            \"04\",\n",
    "            \"05\",\n",
    "            \"06\",\n",
    "            \"07\",\n",
    "            \"08\",\n",
    "            \"09\",\n",
    "            \"10\",\n",
    "            \"11\",\n",
    "            \"12\",\n",
    "            \"13\",\n",
    "            \"14\",\n",
    "            \"15\",\n",
    "            \"16\",\n",
    "            \"17\",\n",
    "            \"18\",\n",
    "            \"19\",\n",
    "            \"20\",\n",
    "            \"21\",\n",
    "            \"22\",\n",
    "            \"23\",\n",
    "            \"24\",\n",
    "            \"25\",\n",
    "            \"26\",\n",
    "            \"27\",\n",
    "            \"28\",\n",
    "            \"29\",\n",
    "            \"30\",\n",
    "            \"31\",\n",
    "        ],\n",
    "        \"time\": [\"06:00\"],\n",
    "        \"data_format\": \"netcdf\",\n",
    "        \"download_format\": \"unarchived\",\n",
    "    }\n",
    "    client = cdsapi.Client()\n",
    "    client.retrieve(dataset, request).download(f\"{filedir}{filename}\")"
   ]
  },
  {
   "cell_type": "markdown",
   "id": "9b796142-596c-450c-a385-a09beb2a5f3e",
   "metadata": {},
   "source": [
    "### Resample to monthly temporal aggregation"
   ]
  },
  {
   "cell_type": "code",
   "execution_count": 3,
   "id": "c5f09519-b86e-4fe0-8aca-e0080e3530a0",
   "metadata": {},
   "outputs": [],
   "source": [
    "def traverseDir(root):\n",
    "    for dirpath, dirnames, filenames in os.walk(root):\n",
    "        for file in filenames:\n",
    "            if file.endswith(\".nc\"):\n",
    "                yield os.path.join(dirpath, file)"
   ]
  },
  {
   "cell_type": "code",
   "execution_count": 4,
   "id": "8514da20-3d50-4dd0-8f4d-11750eba7d1f",
   "metadata": {},
   "outputs": [],
   "source": [
    "files = np.sort(list(traverseDir(filedir)))"
   ]
  },
  {
   "cell_type": "code",
   "execution_count": 5,
   "id": "e7d5a1e8-992b-4356-833e-2c080a766999",
   "metadata": {},
   "outputs": [
    {
     "name": "stdout",
     "output_type": "stream",
     "text": [
      "pr_CERRA-Land_day_1984.nc\n",
      "pr_CERRA-Land_day_1985.nc\n",
      "pr_CERRA-Land_day_1986.nc\n",
      "pr_CERRA-Land_day_1987.nc\n",
      "pr_CERRA-Land_day_1988.nc\n",
      "pr_CERRA-Land_day_1989.nc\n",
      "pr_CERRA-Land_day_1990.nc\n",
      "pr_CERRA-Land_day_1991.nc\n",
      "pr_CERRA-Land_day_1992.nc\n",
      "pr_CERRA-Land_day_1993.nc\n",
      "pr_CERRA-Land_day_1994.nc\n",
      "pr_CERRA-Land_day_1995.nc\n",
      "pr_CERRA-Land_day_1996.nc\n",
      "pr_CERRA-Land_day_1997.nc\n",
      "pr_CERRA-Land_day_1998.nc\n",
      "pr_CERRA-Land_day_1999.nc\n",
      "pr_CERRA-Land_day_2000.nc\n",
      "pr_CERRA-Land_day_2001.nc\n",
      "pr_CERRA-Land_day_2002.nc\n",
      "pr_CERRA-Land_day_2003.nc\n",
      "pr_CERRA-Land_day_2004.nc\n",
      "pr_CERRA-Land_day_2005.nc\n",
      "pr_CERRA-Land_day_2006.nc\n",
      "pr_CERRA-Land_day_2007.nc\n",
      "pr_CERRA-Land_day_2008.nc\n"
     ]
    }
   ],
   "source": [
    "for file in files:\n",
    "    print(file.split(\"/\")[-1])\n",
    "    ds = xr.open_dataset(file)\n",
    "    ds = ds.resample(valid_time=\"ME\").mean()\n",
    "    filedir = f\"{dest}{'mon'}/{variable}/\"\n",
    "    os.makedirs(filedir, exist_ok=True)\n",
    "    ds = ds.to_netcdf(\n",
    "        f\"{filedir}{file.split('/')[-1].replace('_day_', '_mon_')}\",\n",
    "        encoding={\"tp\": {\"zlib\": True, \"complevel\": 1}},\n",
    "    )"
   ]
  }
 ],
 "metadata": {
  "kernelspec": {
   "display_name": "Python (eval-book)",
   "language": "python",
   "name": "eval-book"
  },
  "language_info": {
   "codemirror_mode": {
    "name": "ipython",
    "version": 3
   },
   "file_extension": ".py",
   "mimetype": "text/x-python",
   "name": "python",
   "nbconvert_exporter": "python",
   "pygments_lexer": "ipython3",
   "version": "3.12.8"
  }
 },
 "nbformat": 4,
 "nbformat_minor": 5
}
