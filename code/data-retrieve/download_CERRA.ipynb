{
 "cells": [
  {
   "cell_type": "markdown",
   "id": "527ad46e-8e9e-4557-b5c7-32b1717b8d18",
   "metadata": {},
   "source": [
    "# Download CERRA data from the CDS"
   ]
  },
  {
   "cell_type": "code",
   "execution_count": 1,
   "id": "7448f833-8205-441c-8c56-18656209a1ba",
   "metadata": {},
   "outputs": [],
   "source": [
    "import os\n",
    "\n",
    "import cdsapi\n",
    "import numpy as np\n",
    "import xarray as xr"
   ]
  },
  {
   "cell_type": "code",
   "execution_count": 2,
   "id": "6e6d4416-23a3-4718-8b32-dcd841a4b48a",
   "metadata": {},
   "outputs": [],
   "source": [
    "dest = \"/mnt/CORDEX_CMIP6_tmp/aux_data/cerra/\"\n",
    "dataset = \"reanalysis-cerra-single-levels\"\n",
    "YEARS = [\n",
    "    \"1984\",\n",
    "    \"1985\",\n",
    "    \"1986\",\n",
    "    \"1987\",\n",
    "    \"1988\",\n",
    "    \"1989\",\n",
    "    \"1990\",\n",
    "    \"1991\",\n",
    "    \"1992\",\n",
    "    \"1993\",\n",
    "    \"1994\",\n",
    "    \"1995\",\n",
    "    \"1996\",\n",
    "    \"1997\",\n",
    "    \"1998\",\n",
    "    \"1999\",\n",
    "    \"2000\",\n",
    "    \"2001\",\n",
    "    \"2002\",\n",
    "    \"2003\",\n",
    "    \"2004\",\n",
    "    \"2005\",\n",
    "    \"2006\",\n",
    "    \"2007\",\n",
    "    \"2008\",\n",
    "    \"2009\",\n",
    "    \"2010\",\n",
    "    \"2011\",\n",
    "    \"2012\",\n",
    "    \"2013\",\n",
    "    \"2014\",\n",
    "    \"2015\",\n",
    "    \"2016\",\n",
    "    \"2017\",\n",
    "    \"2018\",\n",
    "    \"2019\",\n",
    "    \"2020\"\n",
    "]\n",
    "variable = \"tas\"\n",
    "temp_agg = \"3-hour\""
   ]
  },
  {
   "cell_type": "code",
   "execution_count": 3,
   "id": "fabd093a-2290-4022-ae1b-88975e8390a8",
   "metadata": {},
   "outputs": [],
   "source": [
    "filedir = f\"{dest}{temp_agg}/{variable}/\""
   ]
  },
  {
   "cell_type": "code",
   "execution_count": null,
   "id": "fad63a45-c2e2-40c6-ae49-ec6bf4a81272",
   "metadata": {},
   "outputs": [],
   "source": [
    "for year in YEARS:\n",
    "    os.makedirs(filedir, exist_ok=True)\n",
    "    filename = f\"{variable}_CERRA_3-hour_{year}.nc\"\n",
    "    request = {\n",
    "        \"variable\": [\"2m_temperature\"],\n",
    "        \"level_type\": \"surface_or_atmosphere\",\n",
    "        \"data_type\": [\"reanalysis\"],\n",
    "        \"product_type\": \"analysis\",\n",
    "        \"year\": [year],\n",
    "        \"month\": [\n",
    "            \"01\",\n",
    "            \"02\",\n",
    "            \"03\",\n",
    "            \"04\",\n",
    "            \"05\",\n",
    "            \"06\",\n",
    "            \"07\",\n",
    "            \"08\",\n",
    "            \"09\",\n",
    "            \"10\",\n",
    "            \"11\",\n",
    "            \"12\",\n",
    "        ],\n",
    "        \"day\": [\n",
    "            \"01\",\n",
    "            \"02\",\n",
    "            \"03\",\n",
    "            \"04\",\n",
    "            \"05\",\n",
    "            \"06\",\n",
    "            \"07\",\n",
    "            \"08\",\n",
    "            \"09\",\n",
    "            \"10\",\n",
    "            \"11\",\n",
    "            \"12\",\n",
    "            \"13\",\n",
    "            \"14\",\n",
    "            \"15\",\n",
    "            \"16\",\n",
    "            \"17\",\n",
    "            \"18\",\n",
    "            \"19\",\n",
    "            \"20\",\n",
    "            \"21\",\n",
    "            \"22\",\n",
    "            \"23\",\n",
    "            \"24\",\n",
    "            \"25\",\n",
    "            \"26\",\n",
    "            \"27\",\n",
    "            \"28\",\n",
    "            \"29\",\n",
    "            \"30\",\n",
    "            \"31\",\n",
    "        ],\n",
    "        \"time\": [\n",
    "            \"00:00\",\n",
    "            \"03:00\",\n",
    "            \"06:00\",\n",
    "            \"09:00\",\n",
    "            \"12:00\",\n",
    "            \"15:00\",\n",
    "            \"18:00\",\n",
    "            \"21:00\",\n",
    "        ],\n",
    "        \"data_format\": \"netcdf\",\n",
    "        \"download_format\": \"unarchived\",\n",
    "    }\n",
    "\n",
    "    client = cdsapi.Client()\n",
    "    client.retrieve(dataset, request).download(f\"{filedir}{filename}\")"
   ]
  },
  {
   "cell_type": "markdown",
   "id": "aab1ec88-abe7-44cb-a981-801f76f17e2a",
   "metadata": {},
   "source": [
    "### Resample to monthly temporal aggregation"
   ]
  },
  {
   "cell_type": "code",
   "execution_count": 10,
   "id": "c5f09519-b86e-4fe0-8aca-e0080e3530a0",
   "metadata": {},
   "outputs": [],
   "source": [
    "def traverseDir(root):\n",
    "    for dirpath, dirnames, filenames in os.walk(root):\n",
    "        for file in filenames:\n",
    "            if file.endswith(\".nc\"):\n",
    "                yield os.path.join(dirpath, file)"
   ]
  },
  {
   "cell_type": "code",
   "execution_count": 9,
   "id": "8514da20-3d50-4dd0-8f4d-11750eba7d1f",
   "metadata": {},
   "outputs": [],
   "source": [
    "files = np.sort(list(traverseDir(filedir)))"
   ]
  },
  {
   "cell_type": "code",
   "execution_count": 10,
   "id": "fc3d0cba-2456-4fe5-85bc-32d579bb712f",
   "metadata": {},
   "outputs": [],
   "source": [
    "filedir = filedir.replace(\"/3-hour/\", \"/mon/\")"
   ]
  },
  {
   "cell_type": "code",
   "execution_count": null,
   "id": "e7d5a1e8-992b-4356-833e-2c080a766999",
   "metadata": {},
   "outputs": [],
   "source": [
    "for file in files:\n",
    "    print(file.split(\"/\")[-1])\n",
    "    ds = xr.open_dataset(file)\n",
    "    ds = ds.resample(valid_time=\"ME\").mean()\n",
    "    filedir = f\"{dest}{'mon'}/{variable}/\"\n",
    "    os.makedirs(filedir, exist_ok=True)\n",
    "    ds = ds.to_netcdf(\n",
    "        f\"{filedir}{file.split('/')[-1].replace('_3-hour_', '_mon_')}\",\n",
    "        encoding={\"t2m\": {\"zlib\": True, \"complevel\": 1}},\n",
    "    )"
   ]
  },
  {
   "cell_type": "markdown",
   "id": "2312a820-7f46-4be3-aad4-efe3ab39fa2c",
   "metadata": {},
   "source": [
    "## Download fixed variables (land-sea mask and orography)"
   ]
  },
  {
   "cell_type": "code",
   "execution_count": 4,
   "id": "3d751d7d-e55c-4ad4-8ee6-26322bc4970f",
   "metadata": {},
   "outputs": [],
   "source": [
    "import sys"
   ]
  },
  {
   "cell_type": "code",
   "execution_count": 5,
   "id": "92249d5a-efa2-45cc-a9ba-39a5d67e9679",
   "metadata": {},
   "outputs": [],
   "source": [
    "variables = {\n",
    "    \"land_sea_mask\": \"sftlf\",         \n",
    "    \"orography\": \"orog\"\n",
    "}\n",
    "dataset = \"reanalysis-cerra-single-levels\""
   ]
  },
  {
   "cell_type": "code",
   "execution_count": 6,
   "id": "cfba918c-6079-48b7-a3e4-e2d9619834ef",
   "metadata": {},
   "outputs": [],
   "source": [
    "filedir = \"/mnt/CORDEX_CMIP6_tmp/aux_data/cerra/\""
   ]
  },
  {
   "cell_type": "code",
   "execution_count": null,
   "id": "84046ff2-7c1d-4fe3-a748-c240458a73ee",
   "metadata": {},
   "outputs": [],
   "source": [
    "for var, var_name in variables.items():\n",
    "    filedir = f\"{dest}fx/\"\n",
    "    os.makedirs(filedir, exist_ok=True)\n",
    "    filename = f\"{var_name}_CERRA_fx.nc\"\n",
    "    \n",
    "    request = {\n",
    "        \"variable\": [var],\n",
    "        \"level_type\": \"surface_or_atmosphere\",\n",
    "        \"data_type\": [\"reanalysis\"],\n",
    "        \"product_type\": \"analysis\",\n",
    "        \"year\": [\"1984\"],\n",
    "        \"month\": [\"09\"],\n",
    "        \"day\": [\"01\"],\n",
    "        \"time\": [\"00:00\"],\n",
    "        \"data_format\": \"netcdf\"\n",
    "    }\n",
    "    client = cdsapi.Client()\n",
    "    client.retrieve(dataset, request).download(f\"{filedir}{filename}\")"
   ]
  },
  {
   "cell_type": "code",
   "execution_count": 11,
   "id": "13a6f97c-740b-4091-b8b2-79522d4aa3c9",
   "metadata": {},
   "outputs": [],
   "source": [
    "files = list(traverseDir(\"/mnt/CORDEX_CMIP6_tmp/aux_data/cerra/fx/\"))"
   ]
  },
  {
   "cell_type": "code",
   "execution_count": 12,
   "id": "628156d2-324b-4c13-904f-e7b16e6bb913",
   "metadata": {},
   "outputs": [],
   "source": [
    "# rename variables\n",
    "for file in files:\n",
    "    var = file.split(\"/\")[-1].split(\"_\")[0]\n",
    "    ds = xr.open_dataset(file)\n",
    "    if var in [\"orog\", \"sftlf\"]:\n",
    "        data_vars = ds.data_vars\n",
    "        if len(data_vars) == 1:\n",
    "            old_name = list(data_vars)[0]\n",
    "            ds = ds.rename({old_name: var})\n",
    "\n",
    "        else:\n",
    "            print(\"There is more than one data variable; you need to specify which one to rename.\")\n",
    "        for tt in ['time', 'valid_time']:\n",
    "            if tt in ds.variables:\n",
    "                ds = ds[var].isel({tt:0}).squeeze()\n",
    "                if isinstance(ds, xr.DataArray):\n",
    "                    ds = ds.to_dataset()\n",
    "        \n",
    "        filename = f\"{var}_CERRA_fx_fixed.nc\"\n",
    "        ds.to_netcdf(f\"{filedir}{filename}\", mode='w', engine='netcdf4')"
   ]
  }
 ],
 "metadata": {
  "kernelspec": {
   "display_name": "Python (evaltools)",
   "language": "python",
   "name": "evaltools"
  },
  "language_info": {
   "codemirror_mode": {
    "name": "ipython",
    "version": 3
   },
   "file_extension": ".py",
   "mimetype": "text/x-python",
   "name": "python",
   "nbconvert_exporter": "python",
   "pygments_lexer": "ipython3",
   "version": "3.10.17"
  }
 },
 "nbformat": 4,
 "nbformat_minor": 5
}
