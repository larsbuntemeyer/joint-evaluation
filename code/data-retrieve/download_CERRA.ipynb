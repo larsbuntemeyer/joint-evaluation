{
 "cells": [
  {
   "cell_type": "markdown",
   "id": "527ad46e-8e9e-4557-b5c7-32b1717b8d18",
   "metadata": {},
   "source": [
    "# Download CERRA data from the CDS"
   ]
  },
  {
   "cell_type": "code",
   "execution_count": 1,
   "id": "7448f833-8205-441c-8c56-18656209a1ba",
   "metadata": {},
   "outputs": [],
   "source": [
    "import os\n",
    "\n",
    "import cdsapi\n",
    "import numpy as np\n",
    "import xarray as xr"
   ]
  },
  {
   "cell_type": "code",
   "execution_count": 6,
   "id": "6e6d4416-23a3-4718-8b32-dcd841a4b48a",
   "metadata": {},
   "outputs": [],
   "source": [
    "dest = \"/mnt/CORDEX_CMIP6_tmp/aux_data/cerra/\"\n",
    "dataset = \"reanalysis-cerra-single-levels\"\n",
    "YEARS = [\n",
    "    \"1984\",\n",
    "    \"1985\",\n",
    "    \"1986\",\n",
    "    \"1987\",\n",
    "    \"1988\",\n",
    "    \"1989\",\n",
    "    \"1990\",\n",
    "    \"1991\",\n",
    "    \"1992\",\n",
    "    \"1993\",\n",
    "    \"1994\",\n",
    "    \"1995\",\n",
    "    \"1996\",\n",
    "    \"1997\",\n",
    "    \"1998\",\n",
    "    \"1999\",\n",
    "    \"2000\",\n",
    "    \"2001\",\n",
    "    \"2002\",\n",
    "    \"2003\",\n",
    "    \"2004\",\n",
    "    \"2005\",\n",
    "    \"2006\",\n",
    "    \"2007\",\n",
    "    \"2008\",\n",
    "]\n",
    "variable = \"tas\"\n",
    "temp_agg = \"3-hour\""
   ]
  },
  {
   "cell_type": "code",
   "execution_count": 7,
   "id": "fabd093a-2290-4022-ae1b-88975e8390a8",
   "metadata": {},
   "outputs": [],
   "source": [
    "filedir = f\"{dest}{temp_agg}/{variable}/\""
   ]
  },
  {
   "cell_type": "code",
   "execution_count": 4,
   "id": "fad63a45-c2e2-40c6-ae49-ec6bf4a81272",
   "metadata": {},
   "outputs": [
    {
     "name": "stderr",
     "output_type": "stream",
     "text": [
      "2025-04-21 15:42:50,892 INFO [2024-09-26T00:00:00] Watch our [Forum](https://forum.ecmwf.int/) for Announcements, news and other discussed topics.\n",
      "2025-04-21 15:42:50,892 WARNING [2024-06-16T00:00:00] CDS API syntax is changed and some keys or parameter names may have also changed. To avoid requests failing, please use the \"Show API request code\" tool on the dataset Download Form to check you are using the correct syntax for your API request.\n",
      "2025-04-21 15:42:51,282 INFO Request ID is b5372613-1f19-4d89-bf6e-6973fda98838\n",
      "2025-04-21 15:42:51,702 INFO status has been updated to accepted\n",
      "2025-04-21 15:43:13,028 INFO status has been updated to running\n",
      "2025-04-21 15:43:24,485 INFO status has been updated to successful\n",
      "                                                                                2025-04-21 15:47:48,365 INFO [2024-09-26T00:00:00] Watch our [Forum](https://forum.ecmwf.int/) for Announcements, news and other discussed topics.\n",
      "2025-04-21 15:47:48,366 WARNING [2024-06-16T00:00:00] CDS API syntax is changed and some keys or parameter names may have also changed. To avoid requests failing, please use the \"Show API request code\" tool on the dataset Download Form to check you are using the correct syntax for your API request.\n",
      "2025-04-21 15:47:48,594 INFO Request ID is 0949f691-33d6-450e-b968-a1f66672a806\n",
      "2025-04-21 15:47:48,655 INFO status has been updated to accepted\n",
      "2025-04-21 15:48:10,159 WARNING Download format not supported for this dataset. Defaulting to as_source.\n",
      "2025-04-21 15:48:10,160 INFO status has been updated to running\n",
      "2025-04-21 15:50:41,097 WARNING Download format not supported for this dataset. Defaulting to as_source.\n",
      "2025-04-21 16:00:08,529 INFO status has been updated to successful\n",
      "                                                                                2025-04-21 16:05:08,965 INFO [2024-09-26T00:00:00] Watch our [Forum](https://forum.ecmwf.int/) for Announcements, news and other discussed topics.\n",
      "2025-04-21 16:05:08,965 WARNING [2024-06-16T00:00:00] CDS API syntax is changed and some keys or parameter names may have also changed. To avoid requests failing, please use the \"Show API request code\" tool on the dataset Download Form to check you are using the correct syntax for your API request.\n",
      "2025-04-21 16:05:09,197 INFO Request ID is 557723a9-211d-4219-aa77-1247a601b8dd\n",
      "2025-04-21 16:05:09,301 INFO status has been updated to accepted\n",
      "2025-04-21 16:05:30,502 WARNING Download format not supported for this dataset. Defaulting to as_source.\n",
      "2025-04-21 16:05:30,502 INFO status has been updated to running\n",
      "2025-04-21 16:17:29,231 INFO status has been updated to successful\n",
      "                                                                                "
     ]
    }
   ],
   "source": [
    "for year in YEARS:\n",
    "    os.makedirs(filedir, exist_ok=True)\n",
    "    filename = f\"{variable}_CERRA_3-hour_{year}.nc\"\n",
    "    request = {\n",
    "        \"variable\": [\"2m_temperature\"],\n",
    "        \"level_type\": \"surface_or_atmosphere\",\n",
    "        \"data_type\": [\"reanalysis\"],\n",
    "        \"product_type\": \"analysis\",\n",
    "        \"year\": [year],\n",
    "        \"month\": [\n",
    "            \"01\",\n",
    "            \"02\",\n",
    "            \"03\",\n",
    "            \"04\",\n",
    "            \"05\",\n",
    "            \"06\",\n",
    "            \"07\",\n",
    "            \"08\",\n",
    "            \"09\",\n",
    "            \"10\",\n",
    "            \"11\",\n",
    "            \"12\",\n",
    "        ],\n",
    "        \"day\": [\n",
    "            \"01\",\n",
    "            \"02\",\n",
    "            \"03\",\n",
    "            \"04\",\n",
    "            \"05\",\n",
    "            \"06\",\n",
    "            \"07\",\n",
    "            \"08\",\n",
    "            \"09\",\n",
    "            \"10\",\n",
    "            \"11\",\n",
    "            \"12\",\n",
    "            \"13\",\n",
    "            \"14\",\n",
    "            \"15\",\n",
    "            \"16\",\n",
    "            \"17\",\n",
    "            \"18\",\n",
    "            \"19\",\n",
    "            \"20\",\n",
    "            \"21\",\n",
    "            \"22\",\n",
    "            \"23\",\n",
    "            \"24\",\n",
    "            \"25\",\n",
    "            \"26\",\n",
    "            \"27\",\n",
    "            \"28\",\n",
    "            \"29\",\n",
    "            \"30\",\n",
    "            \"31\",\n",
    "        ],\n",
    "        \"time\": [\n",
    "            \"00:00\",\n",
    "            \"03:00\",\n",
    "            \"06:00\",\n",
    "            \"09:00\",\n",
    "            \"12:00\",\n",
    "            \"15:00\",\n",
    "            \"18:00\",\n",
    "            \"21:00\",\n",
    "        ],\n",
    "        \"data_format\": \"netcdf\",\n",
    "        \"download_format\": \"unarchived\",\n",
    "    }\n",
    "\n",
    "    client = cdsapi.Client()\n",
    "    client.retrieve(dataset, request).download(f\"{filedir}{filename}\")"
   ]
  },
  {
   "cell_type": "markdown",
   "id": "aab1ec88-abe7-44cb-a981-801f76f17e2a",
   "metadata": {},
   "source": [
    "### Resample to monthly temporal aggregation"
   ]
  },
  {
   "cell_type": "code",
   "execution_count": 8,
   "id": "c5f09519-b86e-4fe0-8aca-e0080e3530a0",
   "metadata": {},
   "outputs": [],
   "source": [
    "def traverseDir(root):\n",
    "    for dirpath, dirnames, filenames in os.walk(root):\n",
    "        for file in filenames:\n",
    "            if file.endswith(\".nc\"):\n",
    "                yield os.path.join(dirpath, file)"
   ]
  },
  {
   "cell_type": "code",
   "execution_count": 9,
   "id": "8514da20-3d50-4dd0-8f4d-11750eba7d1f",
   "metadata": {},
   "outputs": [],
   "source": [
    "files = np.sort(list(traverseDir(filedir)))"
   ]
  },
  {
   "cell_type": "code",
   "execution_count": 11,
   "id": "fc3d0cba-2456-4fe5-85bc-32d579bb712f",
   "metadata": {},
   "outputs": [],
   "source": [
    "filedir = filedir.replace(\"/3-hour/\", \"/mon/\")"
   ]
  },
  {
   "cell_type": "code",
   "execution_count": 12,
   "id": "e7d5a1e8-992b-4356-833e-2c080a766999",
   "metadata": {},
   "outputs": [
    {
     "name": "stdout",
     "output_type": "stream",
     "text": [
      "tas_CERRA_3-hour_1984.nc\n"
     ]
    },
    {
     "ename": "SystemExit",
     "evalue": "",
     "output_type": "error",
     "traceback": [
      "An exception has occurred, use %tb to see the full traceback.\n",
      "\u001b[0;31mSystemExit\u001b[0m\n"
     ]
    },
    {
     "name": "stderr",
     "output_type": "stream",
     "text": [
      "/mnt/CORDEX_CMIP6_tmp/user_tmp/jdiezsierra/conda_envs/eval-book/lib/python3.12/site-packages/IPython/core/interactiveshell.py:3585: UserWarning: To exit: use 'exit', 'quit', or Ctrl-D.\n",
      "  warn(\"To exit: use 'exit', 'quit', or Ctrl-D.\", stacklevel=1)\n"
     ]
    }
   ],
   "source": [
    "for file in files:\n",
    "    print(file.split(\"/\")[-1])\n",
    "    ds = xr.open_dataset(file)\n",
    "    ds = ds.resample(valid_time=\"ME\").mean()\n",
    "    filedir = f\"{dest}{'mon'}/{variable}/\"\n",
    "    os.makedirs(filedir, exist_ok=True)\n",
    "    ds = ds.to_netcdf(\n",
    "        f\"{filedir}{file.split('/')[-1].replace('_3-hour_', '_mon_')}\",\n",
    "        encoding={\"t2m\": {\"zlib\": True, \"complevel\": 1}},\n",
    "    )"
   ]
  }
 ],
 "metadata": {
  "kernelspec": {
   "display_name": "Python (eval-book)",
   "language": "python",
   "name": "eval-book"
  },
  "language_info": {
   "codemirror_mode": {
    "name": "ipython",
    "version": 3
   },
   "file_extension": ".py",
   "mimetype": "text/x-python",
   "name": "python",
   "nbconvert_exporter": "python",
   "pygments_lexer": "ipython3",
   "version": "3.12.8"
  }
 },
 "nbformat": 4,
 "nbformat_minor": 5
}
