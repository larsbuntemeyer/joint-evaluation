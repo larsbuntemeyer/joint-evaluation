{
 "cells": [
  {
   "cell_type": "code",
   "execution_count": 1,
   "id": "fb8ba816-15ca-4a46-8d66-e5d0d68fc659",
   "metadata": {
    "editable": true,
    "slideshow": {
     "slide_type": ""
    },
    "tags": []
   },
   "outputs": [],
   "source": [
    "import os\n",
    "\n",
    "import pandas as pd\n",
    "import papermill as pm"
   ]
  },
  {
   "cell_type": "code",
   "execution_count": 38,
   "id": "52d1bff8-d66d-4358-b93c-fb9223ca6052",
   "metadata": {},
   "outputs": [],
   "source": [
    "root_cat = \"/mnt/CORDEX_CMIP6_tmp/user_tmp/jdiezsierra/joint-evaluation/\""
   ]
  },
  {
   "cell_type": "code",
   "execution_count": 39,
   "id": "4f381b0a-0b3b-446b-9a8e-33f94eeb3d49",
   "metadata": {},
   "outputs": [],
   "source": [
    "catalog = pd.read_csv(f\"{root_cat}catalog.csv\")"
   ]
  },
  {
   "cell_type": "code",
   "execution_count": 40,
   "id": "c80349bd-ee9c-4daa-94ee-9354e8fe1cee",
   "metadata": {
    "scrolled": true
   },
   "outputs": [],
   "source": [
    "rows = [r for r in catalog.index if \"CCLM6-0-1-URB-ESG\" in catalog.loc[r][\"path\"]]"
   ]
  },
  {
   "cell_type": "code",
   "execution_count": 41,
   "id": "ddf11f15-1368-4589-8399-143275d0f98c",
   "metadata": {},
   "outputs": [],
   "source": [
    "catalog = catalog.drop(rows)"
   ]
  },
  {
   "cell_type": "code",
   "execution_count": 6,
   "id": "5dc111f5-996b-4b53-abc5-ae6e30fb6ccf",
   "metadata": {},
   "outputs": [],
   "source": [
    "catalog.to_csv(f\"{root_cat}catalog_new.csv\")"
   ]
  },
  {
   "cell_type": "code",
   "execution_count": 42,
   "id": "2f4acf1e-159b-4c39-aeb3-44316c9117a1",
   "metadata": {},
   "outputs": [],
   "source": [
    "catalog = catalog[catalog[\"source_id\"] == \"ICON-CLM-202407-1-1\"]"
   ]
  },
  {
   "cell_type": "code",
   "execution_count": 43,
   "id": "69337226-5668-4679-834c-e6b2dae588d2",
   "metadata": {},
   "outputs": [],
   "source": [
    "catalog = catalog[catalog[\"variable_id\"] == \"tas\"]"
   ]
  },
  {
   "cell_type": "code",
   "execution_count": 29,
   "id": "b574e131-d2d4-4f2c-b1e1-de3d9262cc90",
   "metadata": {
    "editable": true,
    "scrolled": true,
    "slideshow": {
     "slide_type": ""
    },
    "tags": []
   },
   "outputs": [
    {
     "name": "stderr",
     "output_type": "stream",
     "text": [
      "/mnt/CORDEX_CMIP6_tmp/user_tmp/jdiezsierra/conda_envs/eval-book/lib/python3.12/site-packages/intake_esm/source.py:77: UserWarning: Variable(s) referenced in cell_measures not in variables: ['areacella']\n",
      "  ds = xr.open_dataset(url, **xarray_open_kwargs)\n",
      "/mnt/CORDEX_CMIP6_tmp/user_tmp/jdiezsierra/conda_envs/eval-book/lib/python3.12/site-packages/intake_esm/source.py:77: UserWarning: Variable(s) referenced in cell_measures not in variables: ['areacella']\n",
      "  ds = xr.open_dataset(url, **xarray_open_kwargs)\n",
      "/mnt/CORDEX_CMIP6_tmp/user_tmp/jdiezsierra/conda_envs/eval-book/lib/python3.12/site-packages/intake_esm/source.py:77: UserWarning: Variable(s) referenced in cell_measures not in variables: ['areacella']\n",
      "  ds = xr.open_dataset(url, **xarray_open_kwargs)\n",
      "/mnt/CORDEX_CMIP6_tmp/user_tmp/jdiezsierra/conda_envs/eval-book/lib/python3.12/site-packages/intake_esm/source.py:77: UserWarning: Variable(s) referenced in cell_measures not in variables: ['areacella']\n",
      "  ds = xr.open_dataset(url, **xarray_open_kwargs)\n",
      "/mnt/CORDEX_CMIP6_tmp/user_tmp/jdiezsierra/conda_envs/eval-book/lib/python3.12/site-packages/intake_esm/source.py:77: UserWarning: Variable(s) referenced in cell_measures not in variables: ['areacella']\n",
      "  ds = xr.open_dataset(url, **xarray_open_kwargs)\n",
      "/mnt/CORDEX_CMIP6_tmp/user_tmp/jdiezsierra/conda_envs/eval-book/lib/python3.12/site-packages/intake_esm/source.py:77: UserWarning: Variable(s) referenced in cell_measures not in variables: ['areacella']\n",
      "  ds = xr.open_dataset(url, **xarray_open_kwargs)\n",
      "/mnt/CORDEX_CMIP6_tmp/user_tmp/jdiezsierra/conda_envs/eval-book/lib/python3.12/site-packages/intake_esm/source.py:77: UserWarning: Variable(s) referenced in cell_measures not in variables: ['areacella']\n",
      "  ds = xr.open_dataset(url, **xarray_open_kwargs)\n",
      "/mnt/CORDEX_CMIP6_tmp/user_tmp/jdiezsierra/conda_envs/eval-book/lib/python3.12/site-packages/intake_esm/source.py:77: UserWarning: Variable(s) referenced in cell_measures not in variables: ['areacella']\n",
      "  ds = xr.open_dataset(url, **xarray_open_kwargs)\n",
      "/mnt/CORDEX_CMIP6_tmp/user_tmp/jdiezsierra/conda_envs/eval-book/lib/python3.12/site-packages/intake_esm/source.py:77: UserWarning: Variable(s) referenced in cell_measures not in variables: ['areacella']\n",
      "  ds = xr.open_dataset(url, **xarray_open_kwargs)\n",
      "/mnt/CORDEX_CMIP6_tmp/user_tmp/jdiezsierra/conda_envs/eval-book/lib/python3.12/site-packages/intake_esm/source.py:77: UserWarning: Variable(s) referenced in cell_measures not in variables: ['areacella']\n",
      "  ds = xr.open_dataset(url, **xarray_open_kwargs)\n",
      "/mnt/CORDEX_CMIP6_tmp/user_tmp/jdiezsierra/conda_envs/eval-book/lib/python3.12/site-packages/intake_esm/source.py:77: UserWarning: Variable(s) referenced in cell_measures not in variables: ['areacella']\n",
      "  ds = xr.open_dataset(url, **xarray_open_kwargs)\n",
      "/mnt/CORDEX_CMIP6_tmp/user_tmp/jdiezsierra/conda_envs/eval-book/lib/python3.12/site-packages/intake_esm/source.py:77: UserWarning: Variable(s) referenced in cell_measures not in variables: ['areacella']\n",
      "  ds = xr.open_dataset(url, **xarray_open_kwargs)\n",
      "/mnt/CORDEX_CMIP6_tmp/user_tmp/jdiezsierra/conda_envs/eval-book/lib/python3.12/site-packages/intake_esm/source.py:77: UserWarning: Variable(s) referenced in cell_measures not in variables: ['areacella']\n",
      "  ds = xr.open_dataset(url, **xarray_open_kwargs)\n",
      "/mnt/CORDEX_CMIP6_tmp/user_tmp/jdiezsierra/conda_envs/eval-book/lib/python3.12/site-packages/intake_esm/source.py:77: UserWarning: Variable(s) referenced in cell_measures not in variables: ['areacella']\n",
      "  ds = xr.open_dataset(url, **xarray_open_kwargs)\n",
      "/mnt/CORDEX_CMIP6_tmp/user_tmp/jdiezsierra/conda_envs/eval-book/lib/python3.12/site-packages/intake_esm/source.py:77: UserWarning: Variable(s) referenced in cell_measures not in variables: ['areacella']\n",
      "  ds = xr.open_dataset(url, **xarray_open_kwargs)\n",
      "/mnt/CORDEX_CMIP6_tmp/user_tmp/jdiezsierra/conda_envs/eval-book/lib/python3.12/site-packages/intake_esm/source.py:77: UserWarning: Variable(s) referenced in cell_measures not in variables: ['areacella']\n",
      "  ds = xr.open_dataset(url, **xarray_open_kwargs)\n",
      "/mnt/CORDEX_CMIP6_tmp/user_tmp/jdiezsierra/conda_envs/eval-book/lib/python3.12/site-packages/intake_esm/source.py:77: UserWarning: Variable(s) referenced in cell_measures not in variables: ['areacella']\n",
      "  ds = xr.open_dataset(url, **xarray_open_kwargs)\n",
      "/mnt/CORDEX_CMIP6_tmp/user_tmp/jdiezsierra/conda_envs/eval-book/lib/python3.12/site-packages/intake_esm/source.py:77: UserWarning: Variable(s) referenced in cell_measures not in variables: ['areacella']\n",
      "  ds = xr.open_dataset(url, **xarray_open_kwargs)\n",
      "/mnt/CORDEX_CMIP6_tmp/user_tmp/jdiezsierra/conda_envs/eval-book/lib/python3.12/site-packages/intake_esm/source.py:77: UserWarning: Variable(s) referenced in cell_measures not in variables: ['areacella']\n",
      "  ds = xr.open_dataset(url, **xarray_open_kwargs)\n",
      "/mnt/CORDEX_CMIP6_tmp/user_tmp/jdiezsierra/conda_envs/eval-book/lib/python3.12/site-packages/intake_esm/source.py:77: UserWarning: Variable(s) referenced in cell_measures not in variables: ['areacella']\n",
      "  ds = xr.open_dataset(url, **xarray_open_kwargs)\n",
      "/mnt/CORDEX_CMIP6_tmp/user_tmp/jdiezsierra/conda_envs/eval-book/lib/python3.12/site-packages/intake_esm/source.py:77: UserWarning: Variable(s) referenced in cell_measures not in variables: ['areacella']\n",
      "  ds = xr.open_dataset(url, **xarray_open_kwargs)\n",
      "/mnt/CORDEX_CMIP6_tmp/user_tmp/jdiezsierra/conda_envs/eval-book/lib/python3.12/site-packages/intake_esm/source.py:77: UserWarning: Variable(s) referenced in cell_measures not in variables: ['areacella']\n",
      "  ds = xr.open_dataset(url, **xarray_open_kwargs)\n",
      "/mnt/CORDEX_CMIP6_tmp/user_tmp/jdiezsierra/conda_envs/eval-book/lib/python3.12/site-packages/intake_esm/source.py:77: UserWarning: Variable(s) referenced in cell_measures not in variables: ['areacella']\n",
      "  ds = xr.open_dataset(url, **xarray_open_kwargs)\n",
      "/mnt/CORDEX_CMIP6_tmp/user_tmp/jdiezsierra/conda_envs/eval-book/lib/python3.12/site-packages/intake_esm/source.py:77: UserWarning: Variable(s) referenced in cell_measures not in variables: ['areacella']\n",
      "  ds = xr.open_dataset(url, **xarray_open_kwargs)\n",
      "/mnt/CORDEX_CMIP6_tmp/user_tmp/jdiezsierra/conda_envs/eval-book/lib/python3.12/site-packages/intake_esm/source.py:77: UserWarning: Variable(s) referenced in cell_measures not in variables: ['areacella']\n",
      "  ds = xr.open_dataset(url, **xarray_open_kwargs)\n",
      "Executing: 100%|██████████████████████████████| 26/26 [01:10<00:00,  2.72s/cell]\n",
      "/mnt/CORDEX_CMIP6_tmp/user_tmp/jdiezsierra/conda_envs/eval-book/lib/python3.12/site-packages/intake_esm/source.py:77: UserWarning: Variable(s) referenced in cell_measures not in variables: ['areacella']\n",
      "  ds = xr.open_dataset(url, **xarray_open_kwargs)\n",
      "/mnt/CORDEX_CMIP6_tmp/user_tmp/jdiezsierra/conda_envs/eval-book/lib/python3.12/site-packages/intake_esm/source.py:77: UserWarning: Variable(s) referenced in cell_measures not in variables: ['areacella']\n",
      "  ds = xr.open_dataset(url, **xarray_open_kwargs)\n",
      "/mnt/CORDEX_CMIP6_tmp/user_tmp/jdiezsierra/conda_envs/eval-book/lib/python3.12/site-packages/intake_esm/source.py:77: UserWarning: Variable(s) referenced in cell_measures not in variables: ['areacella']\n",
      "  ds = xr.open_dataset(url, **xarray_open_kwargs)\n",
      "/mnt/CORDEX_CMIP6_tmp/user_tmp/jdiezsierra/conda_envs/eval-book/lib/python3.12/site-packages/intake_esm/source.py:77: UserWarning: Variable(s) referenced in cell_measures not in variables: ['areacella']\n",
      "  ds = xr.open_dataset(url, **xarray_open_kwargs)\n",
      "Executing: 100%|██████████████████████████████| 26/26 [01:27<00:00,  3.35s/cell]\n"
     ]
    }
   ],
   "source": [
    "# Spatial Bias\n",
    "input_notebook = \"spatial_bias.ipynb\"\n",
    "\n",
    "# Iterate over variables\n",
    "for variable in [\"tas\", \"pr\"]:\n",
    "    output_notebook = f\"spatial_bias_{variable}_{mip_era}.ipynb\"\n",
    "    # Generate parameters for the current city\n",
    "    parameters = {\n",
    "        \"variable\": variable,\n",
    "    }\n",
    "    # Execute notebook using Papermill\n",
    "    try:\n",
    "        pm.execute_notebook(\n",
    "            input_path=input_notebook,\n",
    "            output_path=output_notebook,\n",
    "            parameters=parameters,\n",
    "            kernel_name=\"python3\",\n",
    "        )\n",
    "    except Exception as e:\n",
    "        # Handle errors by saving a failed version of the output notebook\n",
    "        output_notebook_failed = output_notebook.replace(\".ipynb\", \"_ERROR\")\n",
    "        os.system(f\"cp {output_notebook} {output_notebook_failed}\")\n",
    "        print(f\"Error executing notebook: {e}\")"
   ]
  },
  {
   "cell_type": "markdown",
   "id": "f8165403-5946-4fea-aefd-845c052b2069",
   "metadata": {
    "editable": true,
    "jp-MarkdownHeadingCollapsed": true,
    "slideshow": {
     "slide_type": ""
    },
    "tags": []
   },
   "source": [
    "# Spatial bias (Figures 2, 3 and 4 from Kotlarski et al. 2014)"
   ]
  },
  {
   "cell_type": "markdown",
   "id": "5950981f-86e7-4d50-8161-076209d45c2d",
   "metadata": {
    "editable": true,
    "slideshow": {
     "slide_type": ""
    },
    "tags": []
   },
   "source": [
    "# Seasonal bias (Figures 5, 6, 7 and 8 from Kotlarski et al. 2014)"
   ]
  },
  {
   "cell_type": "code",
   "execution_count": 2,
   "id": "80f58a70-cb0f-40a8-b7c3-ab9d4c248b91",
   "metadata": {
    "editable": true,
    "slideshow": {
     "slide_type": ""
    },
    "tags": []
   },
   "outputs": [
    {
     "name": "stderr",
     "output_type": "stream",
     "text": [
      "/mnt/CORDEX_CMIP6_tmp/user_tmp/jdiezsierra/conda_envs/eval-book/lib/python3.12/site-packages/tqdm/auto.py:21: TqdmWarning: IProgress not found. Please update jupyter and ipywidgets. See https://ipywidgets.readthedocs.io/en/stable/user_install.html\n",
      "  from .autonotebook import tqdm as notebook_tqdm\n",
      "Executing:  52%|███████████████▌              | 31/60 [00:59<00:55,  1.91s/cell]\n"
     ]
    },
    {
     "name": "stdout",
     "output_type": "stream",
     "text": [
      "Error executing notebook: \n",
      "---------------------------------------------------------------------------\n",
      "Exception encountered at \"In [28]\":\n",
      "---------------------------------------------------------------------------\n",
      "KeyError                                  Traceback (most recent call last)\n",
      "/mnt/CORDEX_CMIP6_tmp/user_tmp/jdiezsierra/conda_envs/eval-book/lib/python3.12/site-packages/xarray/core/dataset.py in ?(self, name)\n",
      "   1512             variable = self._variables[name]\n",
      "   1513         except KeyError:\n",
      "-> 1514             _, name, variable = _get_virtual_variable(self._variables, name, self.sizes)\n",
      "   1515 \n",
      "\n",
      "KeyError: 'pr'\n",
      "\n",
      "During handling of the above exception, another exception occurred:\n",
      "\n",
      "KeyError                                  Traceback (most recent call last)\n",
      "/mnt/CORDEX_CMIP6_tmp/user_tmp/jdiezsierra/conda_envs/eval-book/lib/python3.12/site-packages/xarray/core/dataset.py in ?(self, key)\n",
      "   1615                 if isinstance(key, tuple):\n",
      "   1616                     message += f\"\\nHint: use a list to select multiple variables, for example `ds[{list(key)}]`\"\n",
      "-> 1617                 raise KeyError(message) from e\n",
      "   1618 \n",
      "\n",
      "/mnt/CORDEX_CMIP6_tmp/user_tmp/jdiezsierra/conda_envs/eval-book/lib/python3.12/site-packages/xarray/core/dataset.py in ?(self, name)\n",
      "   1512             variable = self._variables[name]\n",
      "   1513         except KeyError:\n",
      "-> 1514             _, name, variable = _get_virtual_variable(self._variables, name, self.sizes)\n",
      "   1515 \n",
      "\n",
      "/mnt/CORDEX_CMIP6_tmp/user_tmp/jdiezsierra/conda_envs/eval-book/lib/python3.12/site-packages/xarray/core/dataset.py in ?(variables, key, dim_sizes)\n",
      "    219     split_key = key.split(\".\", 1)\n",
      "    220     if len(split_key) != 2:\n",
      "--> 221         raise KeyError(key)\n",
      "    222 \n",
      "\n",
      "KeyError: 'pr'\n",
      "\n",
      "The above exception was the direct cause of the following exception:\n",
      "\n",
      "KeyError                                  Traceback (most recent call last)\n",
      "/tmp/ipykernel_998731/1725007596.py in ?()\n",
      "----> 1 obs_seasonal_bias['pr'] = obs_seasonal_bias['pr'].where((obs_seasonal_bias['pr'] <= 1000) & (obs_seasonal_bias['pr'] >= -1000))\n",
      "\n",
      "/mnt/CORDEX_CMIP6_tmp/user_tmp/jdiezsierra/conda_envs/eval-book/lib/python3.12/site-packages/xarray/core/dataset.py in ?(self, key)\n",
      "   1613                 message = f\"No variable named {key!r}. Variables on the dataset include {shorten_list_repr(list(self.variables.keys()), max_items=10)}\"\n",
      "   1614                 # If someone attempts `ds['foo' , 'bar']` instead of `ds[['foo', 'bar']]`\n",
      "   1615                 if isinstance(key, tuple):\n",
      "   1616                     message += f\"\\nHint: use a list to select multiple variables, for example `ds[{list(key)}]`\"\n",
      "-> 1617                 raise KeyError(message) from e\n",
      "   1618 \n",
      "   1619         if utils.iterable_of_hashable(key):\n",
      "   1620             return self._copy_listed(key)\n",
      "\n",
      "KeyError: \"No variable named 'pr'. Variables on the dataset include ['tas', 'rlon', 'rlat', 'lon', 'lat', 'season', 'dset_id']\"\n",
      "\n"
     ]
    },
    {
     "name": "stderr",
     "output_type": "stream",
     "text": [
      "Executing:  51%|███████████████▏              | 31/61 [00:57<00:55,  1.85s/cell]"
     ]
    },
    {
     "name": "stdout",
     "output_type": "stream",
     "text": [
      "Error executing notebook: \n",
      "---------------------------------------------------------------------------\n",
      "Exception encountered at \"In [28]\":\n",
      "---------------------------------------------------------------------------\n",
      "KeyError                                  Traceback (most recent call last)\n",
      "/mnt/CORDEX_CMIP6_tmp/user_tmp/jdiezsierra/conda_envs/eval-book/lib/python3.12/site-packages/xarray/core/dataset.py in ?(self, name)\n",
      "   1512             variable = self._variables[name]\n",
      "   1513         except KeyError:\n",
      "-> 1514             _, name, variable = _get_virtual_variable(self._variables, name, self.sizes)\n",
      "   1515 \n",
      "\n",
      "KeyError: 'pr'\n",
      "\n",
      "During handling of the above exception, another exception occurred:\n",
      "\n",
      "KeyError                                  Traceback (most recent call last)\n",
      "/mnt/CORDEX_CMIP6_tmp/user_tmp/jdiezsierra/conda_envs/eval-book/lib/python3.12/site-packages/xarray/core/dataset.py in ?(self, key)\n",
      "   1615                 if isinstance(key, tuple):\n",
      "   1616                     message += f\"\\nHint: use a list to select multiple variables, for example `ds[{list(key)}]`\"\n",
      "-> 1617                 raise KeyError(message) from e\n",
      "   1618 \n",
      "\n",
      "/mnt/CORDEX_CMIP6_tmp/user_tmp/jdiezsierra/conda_envs/eval-book/lib/python3.12/site-packages/xarray/core/dataset.py in ?(self, name)\n",
      "   1512             variable = self._variables[name]\n",
      "   1513         except KeyError:\n",
      "-> 1514             _, name, variable = _get_virtual_variable(self._variables, name, self.sizes)\n",
      "   1515 \n",
      "\n",
      "/mnt/CORDEX_CMIP6_tmp/user_tmp/jdiezsierra/conda_envs/eval-book/lib/python3.12/site-packages/xarray/core/dataset.py in ?(variables, key, dim_sizes)\n",
      "    219     split_key = key.split(\".\", 1)\n",
      "    220     if len(split_key) != 2:\n",
      "--> 221         raise KeyError(key)\n",
      "    222 \n",
      "\n",
      "KeyError: 'pr'\n",
      "\n",
      "The above exception was the direct cause of the following exception:\n",
      "\n",
      "KeyError                                  Traceback (most recent call last)\n",
      "/tmp/ipykernel_999098/1725007596.py in ?()\n",
      "----> 1 obs_seasonal_bias['pr'] = obs_seasonal_bias['pr'].where((obs_seasonal_bias['pr'] <= 1000) & (obs_seasonal_bias['pr'] >= -1000))\n",
      "\n",
      "/mnt/CORDEX_CMIP6_tmp/user_tmp/jdiezsierra/conda_envs/eval-book/lib/python3.12/site-packages/xarray/core/dataset.py in ?(self, key)\n",
      "   1613                 message = f\"No variable named {key!r}. Variables on the dataset include {shorten_list_repr(list(self.variables.keys()), max_items=10)}\"\n",
      "   1614                 # If someone attempts `ds['foo' , 'bar']` instead of `ds[['foo', 'bar']]`\n",
      "   1615                 if isinstance(key, tuple):\n",
      "   1616                     message += f\"\\nHint: use a list to select multiple variables, for example `ds[{list(key)}]`\"\n",
      "-> 1617                 raise KeyError(message) from e\n",
      "   1618 \n",
      "   1619         if utils.iterable_of_hashable(key):\n",
      "   1620             return self._copy_listed(key)\n",
      "\n",
      "KeyError: \"No variable named 'pr'. Variables on the dataset include ['tas', 'rlon', 'rlat', 'lon', 'lat', 'season', 'dset_id']\"\n",
      "\n"
     ]
    },
    {
     "name": "stderr",
     "output_type": "stream",
     "text": [
      "\n"
     ]
    }
   ],
   "source": [
    "# Seasonal Bias\n",
    "input_notebook = \"regional_bias.ipynb\"\n",
    "\n",
    "# Iterate over variables\n",
    "for variable in [\"tas\", \"tas95\"]:\n",
    "    # for variable in [\"pr95\", \"tas\", \"tas95\", \"pr\"]:\n",
    "\n",
    "    output_notebook = f\"regional_bias_{variable}.ipynb\"\n",
    "    # Generate parameters for the current city\n",
    "    parameters = {\n",
    "        \"index\": variable,\n",
    "    }\n",
    "    # Execute notebook using Papermill\n",
    "    try:\n",
    "        pm.execute_notebook(\n",
    "            input_path=input_notebook,\n",
    "            output_path=output_notebook,\n",
    "            parameters=parameters,\n",
    "            kernel_name=\"python3\",\n",
    "        )\n",
    "    except Exception as e:\n",
    "        # Handle errors by saving a failed version of the output notebook\n",
    "        output_notebook_failed = output_notebook.replace(\".ipynb\", \"_ERROR\")\n",
    "        os.system(f\"cp {output_notebook} {output_notebook_failed}\")\n",
    "        print(f\"Error executing notebook: {e}\")"
   ]
  },
  {
   "cell_type": "code",
   "execution_count": null,
   "id": "2d119de3-69a3-42b6-97d9-003db788450e",
   "metadata": {},
   "outputs": [],
   "source": []
  }
 ],
 "metadata": {
  "kernelspec": {
   "display_name": "Python (eval-book)",
   "language": "python",
   "name": "eval-book"
  },
  "language_info": {
   "codemirror_mode": {
    "name": "ipython",
    "version": 3
   },
   "file_extension": ".py",
   "mimetype": "text/x-python",
   "name": "python",
   "nbconvert_exporter": "python",
   "pygments_lexer": "ipython3",
   "version": "3.12.8"
  }
 },
 "nbformat": 4,
 "nbformat_minor": 5
}
