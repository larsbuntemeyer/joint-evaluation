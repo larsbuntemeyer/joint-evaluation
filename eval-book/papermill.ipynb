{
 "cells": [
  {
   "cell_type": "code",
   "execution_count": 11,
   "id": "fb8ba816-15ca-4a46-8d66-e5d0d68fc659",
   "metadata": {
    "editable": true,
    "slideshow": {
     "slide_type": ""
    },
    "tags": []
   },
   "outputs": [],
   "source": [
    "import os\n",
    "\n",
    "import papermill as pm"
   ]
  },
  {
   "cell_type": "code",
   "execution_count": null,
   "id": "745afa58-7e82-45b7-921b-fdcb27206918",
   "metadata": {},
   "outputs": [],
   "source": [
    "import dask\n",
    "from dask.distributed import Client\n",
    "\n",
    "# make sure we don't fill up sys tmp\n",
    "dask.config.set(\n",
    "    temporary_directory=f\"/mnt/CORDEX_CMIP6_tmp/user_tmp/{os.environ.get('USER')}/dask-tmp\"\n",
    ")\n",
    "# no hyperthreading, netcdf is not threadsafe\n",
    "client = Client(dashboard_address=\"localhost:8888\", threads_per_worker=1)\n",
    "client"
   ]
  },
  {
   "cell_type": "markdown",
   "id": "095ec113-b740-4576-827c-536a5725f5d1",
   "metadata": {},
   "source": [
    "# Spatial bias (Figures 2, 3 and 4 from Kotlarski et al. 2014)"
   ]
  },
  {
   "cell_type": "code",
   "execution_count": null,
   "id": "b574e131-d2d4-4f2c-b1e1-de3d9262cc90",
   "metadata": {
    "editable": true,
    "scrolled": true,
    "slideshow": {
     "slide_type": ""
    },
    "tags": []
   },
   "outputs": [],
   "source": [
    "# Spatial Bias\n",
    "input_notebook = \"spatial_bias.ipynb\"\n",
    "mip_era = \"CMIP6\"\n",
    "\n",
    "# Iterate over variables\n",
    "for variable in [\"tas\", \"pr\"]:\n",
    "    for parent in [True, False]:\n",
    "\n",
    "        if parent is True:\n",
    "            period_star = \"1989\"\n",
    "            period_stop = \"2008\"\n",
    "        else:\n",
    "            period_star = \"1991\"\n",
    "            period_stop = \"2020\"\n",
    "        output_notebook = (\n",
    "            f\"spatial_bias_{variable}_{mip_era}_{period_star}-{period_stop}.ipynb\"\n",
    "        )\n",
    "        # Generate parameters for the current city\n",
    "        parameters = {\n",
    "            \"variable\": variable,\n",
    "            \"parent\": parent,\n",
    "            \"period_star\": period_star,\n",
    "            \"period_stop\": period_stop,\n",
    "        }\n",
    "        # Execute notebook using Papermill\n",
    "        try:\n",
    "            pm.execute_notebook(\n",
    "                input_path=input_notebook,\n",
    "                output_path=output_notebook,\n",
    "                parameters=parameters,\n",
    "                kernel_name=\"evaltools\",\n",
    "            )\n",
    "        except Exception as e:\n",
    "            # Handle errors by saving a failed version of the output notebook\n",
    "            output_notebook_failed = output_notebook.replace(\".ipynb\", \"_ERROR\")\n",
    "            os.system(f\"cp {output_notebook} {output_notebook_failed}\")\n",
    "            print(f\"Error executing notebook: {e}\")"
   ]
  },
  {
   "cell_type": "markdown",
   "id": "5950981f-86e7-4d50-8161-076209d45c2d",
   "metadata": {
    "editable": true,
    "slideshow": {
     "slide_type": ""
    },
    "tags": []
   },
   "source": [
    "# Regional bias (Figures 5, 6, 7 and 8 from Kotlarski et al. 2014)"
   ]
  },
  {
   "cell_type": "code",
   "execution_count": null,
   "id": "80f58a70-cb0f-40a8-b7c3-ab9d4c248b91",
   "metadata": {
    "editable": true,
    "scrolled": true,
    "slideshow": {
     "slide_type": ""
    },
    "tags": []
   },
   "outputs": [],
   "source": [
    "# Seasonal Bias\n",
    "input_notebook = \"regional_bias.ipynb\"\n",
    "\n",
    "# Iterate over variables\n",
    "# for variable in [\"pr95\", \"tas\", \"tas95\", \"pr\"]:\n",
    "for variable in [\"pr95\"]:\n",
    "\n",
    "    output_notebook = f\"regional_bias_{variable}.ipynb\"\n",
    "    # Generate parameters for the current city\n",
    "    parameters = {\n",
    "        \"index\": variable,\n",
    "    }\n",
    "    # Execute notebook using Papermill\n",
    "    try:\n",
    "        pm.execute_notebook(\n",
    "            input_path=input_notebook,\n",
    "            output_path=output_notebook,\n",
    "            parameters=parameters,\n",
    "            kernel_name=\"evaltools\",\n",
    "        )\n",
    "    except Exception as e:\n",
    "        # Handle errors by saving a failed version of the output notebook\n",
    "        output_notebook_failed = output_notebook.replace(\".ipynb\", \"_ERROR\")\n",
    "        os.system(f\"cp {output_notebook} {output_notebook_failed}\")\n",
    "        print(f\"Error executing notebook: {e}\")"
   ]
  },
  {
   "cell_type": "markdown",
   "id": "35351c19-67f0-4fec-a710-4de3041e8ab5",
   "metadata": {},
   "source": [
    "# Temporal Taylor diagrams (Figures 11 and 12 from Kotlarski et al. 2014)"
   ]
  },
  {
   "cell_type": "code",
   "execution_count": null,
   "id": "97957933-ab1e-45cf-ba95-f4b5c37a4446",
   "metadata": {
    "editable": true,
    "scrolled": true,
    "slideshow": {
     "slide_type": ""
    },
    "tags": []
   },
   "outputs": [],
   "source": [
    "# Spatial Bias\n",
    "input_notebook = \"temporal_taylor_diagrams.ipynb\"\n",
    "mip_era = \"CMIP6\"\n",
    "\n",
    "# Iterate over variables\n",
    "for variable in [\"tas\", \"pr\"]:\n",
    "    for parent in [True, False]:\n",
    "\n",
    "        if parent is True:\n",
    "            parent_str = \"parent\"\n",
    "            period_star = \"1989\"\n",
    "            period_stop = \"2008\"\n",
    "        else:\n",
    "            parent_str = \"no-parent\"\n",
    "            period_star = \"1991\"\n",
    "            period_stop = \"2020\"\n",
    "        output_notebook = f\"temporal_taylor_diagrams_{parent_str}_{variable}_{mip_era}_{period_star}-{period_stop}.ipynb\"\n",
    "        # Generate parameters for the current city\n",
    "        parameters = {\n",
    "            \"index\": variable,\n",
    "            \"parent\": parent,\n",
    "            \"period_star\": period_star,\n",
    "            \"period_stop\": period_stop,\n",
    "        }\n",
    "        # Execute notebook using Papermill\n",
    "        try:\n",
    "            pm.execute_notebook(\n",
    "                input_path=input_notebook,\n",
    "                output_path=output_notebook,\n",
    "                parameters=parameters,\n",
    "                kernel_name=\"evaltools\",\n",
    "            )\n",
    "        except Exception as e:\n",
    "            # Handle errors by saving a failed version of the output notebook\n",
    "            output_notebook_failed = output_notebook.replace(\".ipynb\", \"_ERROR\")\n",
    "            os.system(f\"cp {output_notebook} {output_notebook_failed}\")\n",
    "            print(f\"Error executing notebook: {e}\")"
   ]
  },
  {
   "cell_type": "markdown",
   "id": "d81b7ed2-5ec9-444c-8025-73e709ccf48c",
   "metadata": {
    "editable": true,
    "slideshow": {
     "slide_type": ""
    },
    "tags": []
   },
   "source": [
    "# UHI"
   ]
  },
  {
   "cell_type": "code",
   "execution_count": null,
   "id": "f5c264a5-65a8-45d0-93f6-aec379636a0e",
   "metadata": {
    "editable": true,
    "slideshow": {
     "slide_type": ""
    },
    "tags": []
   },
   "outputs": [],
   "source": [
    "input_notebook = \"UHI.ipynb\"\n",
    "\n",
    "# Iterate over variables\n",
    "for variable in [\"tasmin\"]:\n",
    "    output_notebook = f\"UHI_{variable}.ipynb\"\n",
    "    # Generate parameters for the current city\n",
    "    parameters = {\n",
    "        \"index\": variable,\n",
    "    }\n",
    "    # Execute notebook using Papermill\n",
    "    try:\n",
    "        pm.execute_notebook(\n",
    "            input_path=input_notebook,\n",
    "            output_path=output_notebook,\n",
    "            parameters=parameters,\n",
    "            kernel_name=\"evaltools\",\n",
    "        )\n",
    "    except Exception as e:\n",
    "        # Handle errors by saving a failed version of the output notebook\n",
    "        output_notebook_failed = output_notebook.replace(\".ipynb\", \"_ERROR\")\n",
    "        os.system(f\"cp {output_notebook} {output_notebook_failed}\")\n",
    "        print(f\"Error executing notebook: {e}\")"
   ]
  }
 ],
 "metadata": {
  "kernelspec": {
   "display_name": "Python (evaltools)",
   "language": "python",
   "name": "evaltools"
  },
  "language_info": {
   "codemirror_mode": {
    "name": "ipython",
    "version": 3
   },
   "file_extension": ".py",
   "mimetype": "text/x-python",
   "name": "python",
   "nbconvert_exporter": "python",
   "pygments_lexer": "ipython3",
   "version": "3.10.17"
  }
 },
 "nbformat": 4,
 "nbformat_minor": 5
}
