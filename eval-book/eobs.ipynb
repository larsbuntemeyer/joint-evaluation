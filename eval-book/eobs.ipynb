{
 "cells": [
  {
   "cell_type": "markdown",
   "metadata": {},
   "source": [
    "# EOBS seasonal means"
   ]
  },
  {
   "cell_type": "code",
   "execution_count": null,
   "metadata": {},
   "outputs": [],
   "source": [
    "import dask\n",
    "import intake\n",
    "import xesmf as xe\n",
    "from dask.distributed import Client\n",
    "from evaltools import obs\n",
    "\n",
    "dask.config.set(scheduler=\"single-threaded\")"
   ]
  },
  {
   "cell_type": "code",
   "execution_count": null,
   "metadata": {},
   "outputs": [],
   "source": [
    "client = Client(dashboard_address=None, threads_per_worker=1)\n",
    "client"
   ]
  },
  {
   "cell_type": "code",
   "execution_count": null,
   "metadata": {},
   "outputs": [],
   "source": [
    "catalog = intake.open_esm_datastore(\n",
    "    \"https://raw.githubusercontent.com/euro-cordex/joint-evaluation/refs/heads/main/CORDEX-CMIP6.json\"\n",
    ")\n",
    "catalog.keys()"
   ]
  },
  {
   "cell_type": "code",
   "execution_count": null,
   "metadata": {},
   "outputs": [],
   "source": [
    "dataset_dict = catalog.search(variable_id=[\"tas\", \"orog\", \"sftlf\"]).to_dataset_dict()"
   ]
  },
  {
   "cell_type": "code",
   "execution_count": null,
   "metadata": {},
   "outputs": [],
   "source": [
    "eobs = obs.eobs(add_mask=True)\n",
    "eobs"
   ]
  },
  {
   "cell_type": "code",
   "execution_count": null,
   "metadata": {},
   "outputs": [],
   "source": [
    "import xarray as xr\n",
    "\n",
    "tas = dataset_dict[\n",
    "    \"CORDEX.EUR-12.GERICS.ERA5.evaluation.r1i1p1f1.REMO2020.v1.mon.tas.v20241120\"\n",
    "]\n",
    "orog = dataset_dict[\n",
    "    \"CORDEX.EUR-12.GERICS.ERA5.evaluation.r1i1p1f1.REMO2020.v1.fx.orog.v20241120\"\n",
    "]\n",
    "sftlf = dataset_dict[\n",
    "    \"CORDEX.EUR-12.GERICS.ERA5.evaluation.r1i1p1f1.REMO2020.v1.fx.sftlf.v20241120\"\n",
    "]\n",
    "\n",
    "tas[\"mask\"] = xr.where(sftlf.sftlf > 0, 1, 0)\n",
    "tas[\"tas\"] = tas.tas.where(tas.mask == 1)\n",
    "tas.tas.isel(time=0).plot()"
   ]
  },
  {
   "cell_type": "code",
   "execution_count": null,
   "metadata": {},
   "outputs": [],
   "source": [
    "%%time\n",
    "regridder = xe.Regridder(eobs, tas, \"bilinear\")\n",
    "regridder"
   ]
  },
  {
   "cell_type": "code",
   "execution_count": null,
   "metadata": {},
   "outputs": [],
   "source": [
    "eobs_regridded = regridder(eobs)\n",
    "eobs_regridded.tg.isel(time=0).plot()"
   ]
  },
  {
   "cell_type": "code",
   "execution_count": null,
   "metadata": {},
   "outputs": [],
   "source": [
    "def seasonal_mean(da):\n",
    "    \"\"\"Optimized function to calculate seasonal averages from time series of monthly means\n",
    "\n",
    "    based on: https://xarray.pydata.org/en/stable/examples/monthly-means.html\n",
    "    \"\"\"\n",
    "\n",
    "    # Get number od days for each month\n",
    "    month_length = da.time.dt.days_in_month\n",
    "    # Calculate the weights by grouping by 'time.season'.\n",
    "    weights = (\n",
    "        month_length.groupby(\"time.season\") / month_length.groupby(\"time.season\").sum()\n",
    "    )\n",
    "\n",
    "    # Test that the sum of the weights for each season is 1.0\n",
    "    # np.testing.assert_allclose(weights.groupby(\"time.season\").sum().values, np.ones(4))\n",
    "\n",
    "    # Calculate the weighted average\n",
    "    return (da * weights).groupby(\"time.season\").sum(dim=\"time\")"
   ]
  },
  {
   "cell_type": "code",
   "execution_count": null,
   "metadata": {},
   "outputs": [],
   "source": [
    "%%time\n",
    "\n",
    "period = slice(\"1980\", \"2020\")\n",
    "\n",
    "eobs_seasmean = seasonal_mean(eobs.tg.sel(time=period)).compute()\n",
    "diffs = (regridder(eobs_seasmean) - seasonal_mean(tas.tas - 273.5)).compute()"
   ]
  },
  {
   "cell_type": "code",
   "execution_count": null,
   "metadata": {},
   "outputs": [],
   "source": [
    "import matplotlib.pyplot as plt\n",
    "from cartopy import crs as ccrs\n",
    "\n",
    "# Subplots are organized in a Rows x Cols Grid\n",
    "# Tot and Cols are known\n",
    "Tot = 4\n",
    "Cols = 2\n",
    "# Compute Rows required\n",
    "Rows = Tot // Cols\n",
    "Rows += Tot % Cols\n",
    "# Create a Position index\n",
    "Position = range(1, Tot + 1)"
   ]
  },
  {
   "cell_type": "code",
   "execution_count": null,
   "metadata": {},
   "outputs": [],
   "source": [
    "nrows = 2\n",
    "ncols = 2\n",
    "\n",
    "ds = diffs.where(~diffs.isnull(), drop=True)\n",
    "pole = tas.cf[\"grid_mapping\"]\n",
    "transform = ccrs.RotatedPole(\n",
    "    pole_latitude=pole.grid_north_pole_latitude,\n",
    "    pole_longitude=pole.grid_north_pole_longitude,\n",
    ")\n",
    "projection = transform\n",
    "\n",
    "# Define the figure and each axis for the 3 rows and 3 columns\n",
    "fig, axs = plt.subplots(\n",
    "    nrows=nrows,\n",
    "    ncols=ncols,\n",
    "    subplot_kw={\"projection\": projection},\n",
    "    figsize=(12, 12),\n",
    "    sharex=True,\n",
    "    sharey=True,\n",
    ")\n",
    "\n",
    "# axs is a 2 dimensional array of `GeoAxes`.  We will flatten it into a 1-D array\n",
    "axs = axs.flatten()\n",
    "\n",
    "# Loop over all of the models\n",
    "for i, season in enumerate(diffs.season.values):\n",
    "\n",
    "    # Select the week 1 forecast from the specified model\n",
    "    data = ds.isel(season=i)\n",
    "\n",
    "    # Add the cyclic point\n",
    "    # data,lons=add_cyclic_point(data,coord=ds['lon'])\n",
    "\n",
    "    # Contour plot\n",
    "    cs = axs[i].contourf(\n",
    "        ds.cf[\"X\"],\n",
    "        ds.cf[\"Y\"],\n",
    "        data,\n",
    "        transform=transform,\n",
    "        levels=18,\n",
    "        cmap=\"coolwarm\",\n",
    "        extend=\"both\",\n",
    "    )\n",
    "\n",
    "    # Title each subplot with the name of the model\n",
    "    axs[i].set_title(season)\n",
    "\n",
    "    # Draw the coastines for each subplot\n",
    "    axs[i].coastlines(resolution=\"50m\", color=\"black\", linewidth=1)\n",
    "\n",
    "    axs[i].gridlines(\n",
    "        draw_labels=False,\n",
    "        linewidth=0.5,\n",
    "        color=\"gray\",\n",
    "        xlocs=range(-180, 180, 10),\n",
    "        ylocs=range(-90, 90, 10),\n",
    "    )\n",
    "    # axs[i].xaxis.set_tick_position('bottom')\n",
    "    # axs[i].yaxis.set_tick_position('left')\n",
    "\n",
    "    # Longitude labels\n",
    "    # axs[i].set_xticks(range(-180, 180, 10), crs=ccrs.PlateCarree())\n",
    "    # lon_formatter = cticker.LongitudeFormatter()\n",
    "    # axs[i].xaxis.set_major_formatter(lon_formatter)\n",
    "\n",
    "    # # Latitude labels\n",
    "    # axs[i].set_yticks(range(-90, 90, 10), crs=ccrs.PlateCarree())\n",
    "    # lat_formatter = cticker.LatitudeFormatter()\n",
    "    # axs[i].yaxis.set_major_formatter(lat_formatter)\n",
    "\n",
    "\n",
    "# Adjust the location of the subplots on the page to make room for the colorbar\n",
    "fig.subplots_adjust(bottom=0.1, top=0.9, left=0.1, right=0.9, wspace=0.08, hspace=0.08)\n",
    "\n",
    "# Add a colorbar axis at the bottom of the graph\n",
    "cbar_ax = fig.add_axes([0.2, 0.05, 0.6, 0.02])\n",
    "\n",
    "# Draw the colorbar\n",
    "cbar = fig.colorbar(cs, cax=cbar_ax, orientation=\"horizontal\")\n",
    "\n",
    "# Add a big title at the top\n",
    "# plt.suptitle('SubX Week 1 2m Temperature Anomalies ($^\\circ$C): Apr 16, 2020 Initialized Forecasts')"
   ]
  }
 ],
 "metadata": {
  "kernelspec": {
   "display_name": "eval-book",
   "language": "python",
   "name": "python3"
  },
  "language_info": {
   "codemirror_mode": {
    "name": "ipython",
    "version": 3
   },
   "file_extension": ".py",
   "mimetype": "text/x-python",
   "name": "python",
   "nbconvert_exporter": "python",
   "pygments_lexer": "ipython3",
   "version": "3.12.7"
  }
 },
 "nbformat": 4,
 "nbformat_minor": 2
}
